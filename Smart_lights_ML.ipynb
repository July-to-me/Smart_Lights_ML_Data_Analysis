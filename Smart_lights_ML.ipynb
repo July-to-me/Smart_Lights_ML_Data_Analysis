{
  "cells": [
    {
      "cell_type": "markdown",
      "metadata": {
        "id": "view-in-github",
        "colab_type": "text"
      },
      "source": [
        "<a href=\"https://colab.research.google.com/github/July-to-me/Smart_Lights_ML_Data_Analysis/blob/main/Smart_lights_ML.ipynb\" target=\"_parent\"><img src=\"https://colab.research.google.com/assets/colab-badge.svg\" alt=\"Open In Colab\"/></a>"
      ]
    },
    {
      "cell_type": "code",
      "execution_count": null,
      "metadata": {
        "id": "8bujTjuwTvfT"
      },
      "outputs": [],
      "source": [
        "import pandas as pd\n",
        "import numpy as np\n",
        "import calendar\n",
        "import datetime, time\n",
        "import matplotlib.dates as mdates\n",
        "import matplotlib.pyplot as plt\n",
        "from matplotlib import pyplot as plt\n",
        "import seaborn as sns\n",
        "import kmodes\n",
        "from sklearn.linear_model import LogisticRegression\n",
        "from sklearn import metrics\n",
        "import tensorflow as tf\n",
        "from tensorflow import keras\n",
        "import numpy as np\n",
        "import matplotlib.pyplot as plt\n",
        "import scipy.stats as scipy\n",
        "import random\n",
        "import timeit\n",
        "from sklearn import neighbors, datasets"
      ]
    },
    {
      "cell_type": "code",
      "source": [
        "from kmodes.kmodes import KModes"
      ],
      "metadata": {
        "id": "-SXOMIKsC_wU"
      },
      "execution_count": null,
      "outputs": []
    },
    {
      "cell_type": "code",
      "execution_count": null,
      "metadata": {
        "id": "Zq68DSY2rP2W",
        "colab": {
          "base_uri": "https://localhost:8080/"
        },
        "outputId": "3e741162-81e5-418a-aa18-aaf13bda3a6f"
      },
      "outputs": [
        {
          "output_type": "stream",
          "name": "stdout",
          "text": [
            "Collecting kmodes\n",
            "  Downloading kmodes-0.12.1-py2.py3-none-any.whl (20 kB)\n",
            "Requirement already satisfied: scikit-learn>=0.22.0 in /usr/local/lib/python3.7/dist-packages (from kmodes) (1.0.2)\n",
            "Requirement already satisfied: joblib>=0.11 in /usr/local/lib/python3.7/dist-packages (from kmodes) (1.1.0)\n",
            "Requirement already satisfied: scipy>=0.13.3 in /usr/local/lib/python3.7/dist-packages (from kmodes) (1.4.1)\n",
            "Requirement already satisfied: numpy>=1.10.4 in /usr/local/lib/python3.7/dist-packages (from kmodes) (1.21.6)\n",
            "Requirement already satisfied: threadpoolctl>=2.0.0 in /usr/local/lib/python3.7/dist-packages (from scikit-learn>=0.22.0->kmodes) (3.1.0)\n",
            "Installing collected packages: kmodes\n",
            "Successfully installed kmodes-0.12.1\n"
          ]
        }
      ],
      "source": [
        "pip install kmodes"
      ]
    },
    {
      "cell_type": "markdown",
      "metadata": {
        "id": "Mh1qko0-TvfT"
      },
      "source": [
        "I will only have 2 Blocks as I want to see if I can predict which block belongs to which"
      ]
    },
    {
      "cell_type": "code",
      "execution_count": null,
      "metadata": {
        "id": "tmWQIG_nTvfU"
      },
      "outputs": [],
      "source": [
        "\n",
        "\n",
        "block_8_data = pd.read_csv(\"/content/block_8.csv\")\n",
        "\n",
        "block_104_data = pd.read_csv(\"/content/block_104.csv\")"
      ]
    },
    {
      "cell_type": "markdown",
      "metadata": {
        "id": "R_mYnuDYTvfV"
      },
      "source": [
        "Getting the specific blocks"
      ]
    },
    {
      "cell_type": "code",
      "execution_count": null,
      "metadata": {
        "id": "V3KzPDceTvfV"
      },
      "outputs": [],
      "source": [
        "block_104_data = block_104_data.replace('Null', np.NaN)\n",
        "replace = block_104_data.fillna(block_104_data.mode().iloc[0], inplace=True)"
      ]
    },
    {
      "cell_type": "code",
      "execution_count": null,
      "metadata": {
        "id": "zERpxhNNTvfW"
      },
      "outputs": [],
      "source": [
        "block_8_data = block_8_data.replace('Null', np.NaN)\n",
        "replace = block_8_data.fillna(block_8_data.mode().iloc[0], inplace=True)"
      ]
    },
    {
      "cell_type": "markdown",
      "metadata": {
        "id": "tVgP3IGlTvfW"
      },
      "source": [
        "Doing conversions here "
      ]
    },
    {
      "cell_type": "code",
      "execution_count": null,
      "metadata": {
        "id": "1zmMvKqATvfX"
      },
      "outputs": [],
      "source": [
        "block_104_data['energy(kWh/hh)'] = pd.to_numeric(block_104_data['energy(kWh/hh)'], errors='coerce')"
      ]
    },
    {
      "cell_type": "code",
      "execution_count": null,
      "metadata": {
        "id": "AFHA4HyvTvfX"
      },
      "outputs": [],
      "source": [
        "block_8_data['energy(kWh/hh)'] = pd.to_numeric(block_8_data['energy(kWh/hh)'], errors='coerce')"
      ]
    },
    {
      "cell_type": "code",
      "execution_count": null,
      "metadata": {
        "id": "s8-JINEpTvfY"
      },
      "outputs": [],
      "source": [
        "df104 = block_104_data[block_104_data[\"LCLid\"] == \"MAC000090\"]\n",
        "df104.reset_index(drop=True, inplace=True)"
      ]
    },
    {
      "cell_type": "code",
      "execution_count": null,
      "metadata": {
        "id": "ZULSVlmNTvfY"
      },
      "outputs": [],
      "source": [
        "df8 = block_8_data[block_8_data[\"LCLid\"] == \"MAC000079\"]\n",
        "df8.reset_index(drop=True, inplace=True)"
      ]
    },
    {
      "cell_type": "code",
      "execution_count": null,
      "metadata": {
        "id": "Y_FQHfOXTvfY",
        "colab": {
          "base_uri": "https://localhost:8080/"
        },
        "outputId": "91113106-bc4c-47d1-b2cb-8738755cf413"
      },
      "outputs": [
        {
          "output_type": "stream",
          "name": "stderr",
          "text": [
            "/usr/local/lib/python3.7/dist-packages/pandas/core/indexing.py:1684: SettingWithCopyWarning: \n",
            "A value is trying to be set on a copy of a slice from a DataFrame.\n",
            "Try using .loc[row_indexer,col_indexer] = value instead\n",
            "\n",
            "See the caveats in the documentation: https://pandas.pydata.org/pandas-docs/stable/user_guide/indexing.html#returning-a-view-versus-a-copy\n",
            "  self.obj[key] = infer_fill_value(value)\n",
            "/usr/local/lib/python3.7/dist-packages/pandas/core/indexing.py:1817: SettingWithCopyWarning: \n",
            "A value is trying to be set on a copy of a slice from a DataFrame.\n",
            "Try using .loc[row_indexer,col_indexer] = value instead\n",
            "\n",
            "See the caveats in the documentation: https://pandas.pydata.org/pandas-docs/stable/user_guide/indexing.html#returning-a-view-versus-a-copy\n",
            "  self._setitem_single_column(loc, value, pi)\n"
          ]
        }
      ],
      "source": [
        "for i in range(df8.shape[0]):\n",
        "    df8.loc[i,'datetime'] = datetime.datetime.strptime(df8.loc[i,'tstp'].replace('.0000000', ''), '%Y-%m-%d %H:%M:%S')\n",
        "    df8.loc[i,'date'] = df8.loc[i,'datetime'].date()\n",
        "    df8.loc[i,'month'] = df8.loc[i,'datetime'].strftime(\"%B\")\n",
        "    df8.loc[i,'day_of_month'] = df8.loc[i,'datetime'].strftime(\"%d\")\n",
        "    df8.loc[i,'time'] = df8.loc[i,'datetime'].strftime('%X')\n",
        "    df8.loc[i,'weekday'] = df8.loc[i,'datetime'].strftime('%A')\n",
        "    time = df8.datetime[i] - datetime.datetime.combine(df8.date[i], datetime.datetime.min.time())"
      ]
    },
    {
      "cell_type": "code",
      "execution_count": null,
      "metadata": {
        "id": "h34XMjXYTvfZ",
        "colab": {
          "base_uri": "https://localhost:8080/"
        },
        "outputId": "57ce7736-3a36-45e0-f67b-b15c1cf68f7b"
      },
      "outputs": [
        {
          "output_type": "stream",
          "name": "stderr",
          "text": [
            "/usr/local/lib/python3.7/dist-packages/pandas/core/indexing.py:1684: SettingWithCopyWarning: \n",
            "A value is trying to be set on a copy of a slice from a DataFrame.\n",
            "Try using .loc[row_indexer,col_indexer] = value instead\n",
            "\n",
            "See the caveats in the documentation: https://pandas.pydata.org/pandas-docs/stable/user_guide/indexing.html#returning-a-view-versus-a-copy\n",
            "  self.obj[key] = infer_fill_value(value)\n",
            "/usr/local/lib/python3.7/dist-packages/pandas/core/indexing.py:1817: SettingWithCopyWarning: \n",
            "A value is trying to be set on a copy of a slice from a DataFrame.\n",
            "Try using .loc[row_indexer,col_indexer] = value instead\n",
            "\n",
            "See the caveats in the documentation: https://pandas.pydata.org/pandas-docs/stable/user_guide/indexing.html#returning-a-view-versus-a-copy\n",
            "  self._setitem_single_column(loc, value, pi)\n"
          ]
        }
      ],
      "source": [
        "for i in range(df104.shape[0]):\n",
        "    df104.loc[i,'datetime'] = datetime.datetime.strptime(df104.loc[i,'tstp'].replace('.0000000', ''), '%Y-%m-%d %H:%M:%S')\n",
        "    df104.loc[i,'date'] = df104.loc[i,'datetime'].date()\n",
        "    df104.loc[i,'month'] = df104.loc[i,'datetime'].strftime(\"%B\")\n",
        "    df104.loc[i,'day_of_month'] = df104.loc[i,'datetime'].strftime(\"%d\")\n",
        "    df104.loc[i,'time'] = df104.loc[i,'datetime'].strftime('%X')\n",
        "    df104.loc[i,'weekday'] = df104.loc[i,'datetime'].strftime('%A')\n",
        "    time = df104.datetime[i] - datetime.datetime.combine(df104.date[i], datetime.datetime.min.time())"
      ]
    },
    {
      "cell_type": "code",
      "execution_count": null,
      "metadata": {
        "id": "hju8Rpt1TvfZ",
        "colab": {
          "base_uri": "https://localhost:8080/"
        },
        "outputId": "bb2ad38e-3f4a-4d50-debd-44008241d244"
      },
      "outputs": [
        {
          "output_type": "stream",
          "name": "stderr",
          "text": [
            "/usr/local/lib/python3.7/dist-packages/pandas/core/indexing.py:1773: SettingWithCopyWarning: \n",
            "A value is trying to be set on a copy of a slice from a DataFrame.\n",
            "Try using .loc[row_indexer,col_indexer] = value instead\n",
            "\n",
            "See the caveats in the documentation: https://pandas.pydata.org/pandas-docs/stable/user_guide/indexing.html#returning-a-view-versus-a-copy\n",
            "  self._setitem_single_column(ilocs[0], value, pi)\n"
          ]
        }
      ],
      "source": [
        "df104.loc[:,'weekday'] = pd.Categorical(df104['weekday'], categories= ['Monday','Tuesday','Wednesday','Thursday','Friday','Saturday', 'Sunday'], ordered=True)\n",
        "df104.loc[:,'month'] = pd.Categorical(df104['month'], categories=calendar.month_name[1:], ordered=True)"
      ]
    },
    {
      "cell_type": "code",
      "execution_count": null,
      "metadata": {
        "id": "oAht5jVqTvfZ",
        "colab": {
          "base_uri": "https://localhost:8080/"
        },
        "outputId": "96ddbfda-351e-4928-f052-5ed3464c22c5"
      },
      "outputs": [
        {
          "output_type": "stream",
          "name": "stderr",
          "text": [
            "/usr/local/lib/python3.7/dist-packages/pandas/core/indexing.py:1773: SettingWithCopyWarning: \n",
            "A value is trying to be set on a copy of a slice from a DataFrame.\n",
            "Try using .loc[row_indexer,col_indexer] = value instead\n",
            "\n",
            "See the caveats in the documentation: https://pandas.pydata.org/pandas-docs/stable/user_guide/indexing.html#returning-a-view-versus-a-copy\n",
            "  self._setitem_single_column(ilocs[0], value, pi)\n"
          ]
        }
      ],
      "source": [
        "df8.loc[:,'weekday'] = pd.Categorical(df8['weekday'], categories= ['Monday','Tuesday','Wednesday','Thursday','Friday','Saturday', 'Sunday'], ordered=True)\n",
        "df8.loc[:,'month'] = pd.Categorical(df8['month'], categories=calendar.month_name[1:], ordered=True)"
      ]
    },
    {
      "cell_type": "markdown",
      "metadata": {
        "id": "Ub2-ethKTvfZ"
      },
      "source": [
        "Dropping data that will be irrelevant"
      ]
    },
    {
      "cell_type": "code",
      "execution_count": null,
      "metadata": {
        "id": "RZlA0lhSTvfa",
        "outputId": "3b261215-f0f2-48c4-da0b-dbe05b34f175",
        "colab": {
          "base_uri": "https://localhost:8080/"
        }
      },
      "outputs": [
        {
          "output_type": "stream",
          "name": "stderr",
          "text": [
            "/usr/local/lib/python3.7/dist-packages/pandas/core/frame.py:4913: SettingWithCopyWarning: \n",
            "A value is trying to be set on a copy of a slice from a DataFrame\n",
            "\n",
            "See the caveats in the documentation: https://pandas.pydata.org/pandas-docs/stable/user_guide/indexing.html#returning-a-view-versus-a-copy\n",
            "  errors=errors,\n"
          ]
        }
      ],
      "source": [
        "df8.drop('tstp', inplace=True, axis=1)"
      ]
    },
    {
      "cell_type": "code",
      "execution_count": null,
      "metadata": {
        "id": "iyLbl-OeTvfa",
        "colab": {
          "base_uri": "https://localhost:8080/"
        },
        "outputId": "0dbc10da-0491-4b2d-bc2a-7a1239baa1fa"
      },
      "outputs": [
        {
          "output_type": "stream",
          "name": "stderr",
          "text": [
            "/usr/local/lib/python3.7/dist-packages/pandas/core/frame.py:4913: SettingWithCopyWarning: \n",
            "A value is trying to be set on a copy of a slice from a DataFrame\n",
            "\n",
            "See the caveats in the documentation: https://pandas.pydata.org/pandas-docs/stable/user_guide/indexing.html#returning-a-view-versus-a-copy\n",
            "  errors=errors,\n"
          ]
        }
      ],
      "source": [
        "df104.drop('tstp', inplace=True, axis=1)"
      ]
    },
    {
      "cell_type": "code",
      "execution_count": null,
      "metadata": {
        "id": "YKU6GyKqTvfa"
      },
      "outputs": [],
      "source": [
        " ## df8.drop('datetime', inplace=True, axis=1)"
      ]
    },
    {
      "cell_type": "code",
      "execution_count": null,
      "metadata": {
        "id": "-fIAFrcZTvfb"
      },
      "outputs": [],
      "source": [
        "## df104.drop('dateime', inplace=True, axis=1)"
      ]
    },
    {
      "cell_type": "code",
      "execution_count": null,
      "metadata": {
        "id": "Zai2mdaTTvfb"
      },
      "outputs": [],
      "source": [
        "## df8.drop('date', inplace=True, axis=1)"
      ]
    },
    {
      "cell_type": "code",
      "execution_count": null,
      "metadata": {
        "id": "ldldxzCaTvfb"
      },
      "outputs": [],
      "source": [
        "## df104.drop('date', inplace=True, axis=1)"
      ]
    },
    {
      "cell_type": "code",
      "execution_count": null,
      "metadata": {
        "id": "z15o4bfiTvfb"
      },
      "outputs": [],
      "source": [
        "## df104.drop('datetime', inplace=True, axis=1)"
      ]
    },
    {
      "cell_type": "code",
      "execution_count": null,
      "metadata": {
        "id": "XxDwEuWzTvfb",
        "outputId": "b22223e7-c3da-49c9-c31c-44b1e6eefaca",
        "colab": {
          "base_uri": "https://localhost:8080/",
          "height": 206
        }
      },
      "outputs": [
        {
          "output_type": "execute_result",
          "data": {
            "text/plain": [
              "       LCLid  energy(kWh/hh)     month day_of_month      time weekday\n",
              "0  MAC000090           0.247  December           12  10:00:00  Monday\n",
              "1  MAC000090           0.068  December           12  10:30:00  Monday\n",
              "2  MAC000090           0.107  December           12  11:00:00  Monday\n",
              "3  MAC000090           0.098  December           12  11:30:00  Monday\n",
              "4  MAC000090           0.095  December           12  12:00:00  Monday"
            ],
            "text/html": [
              "\n",
              "  <div id=\"df-4e52ef0d-43ea-48a9-8cd7-981185ed4f36\">\n",
              "    <div class=\"colab-df-container\">\n",
              "      <div>\n",
              "<style scoped>\n",
              "    .dataframe tbody tr th:only-of-type {\n",
              "        vertical-align: middle;\n",
              "    }\n",
              "\n",
              "    .dataframe tbody tr th {\n",
              "        vertical-align: top;\n",
              "    }\n",
              "\n",
              "    .dataframe thead th {\n",
              "        text-align: right;\n",
              "    }\n",
              "</style>\n",
              "<table border=\"1\" class=\"dataframe\">\n",
              "  <thead>\n",
              "    <tr style=\"text-align: right;\">\n",
              "      <th></th>\n",
              "      <th>LCLid</th>\n",
              "      <th>energy(kWh/hh)</th>\n",
              "      <th>month</th>\n",
              "      <th>day_of_month</th>\n",
              "      <th>time</th>\n",
              "      <th>weekday</th>\n",
              "    </tr>\n",
              "  </thead>\n",
              "  <tbody>\n",
              "    <tr>\n",
              "      <th>0</th>\n",
              "      <td>MAC000090</td>\n",
              "      <td>0.247</td>\n",
              "      <td>December</td>\n",
              "      <td>12</td>\n",
              "      <td>10:00:00</td>\n",
              "      <td>Monday</td>\n",
              "    </tr>\n",
              "    <tr>\n",
              "      <th>1</th>\n",
              "      <td>MAC000090</td>\n",
              "      <td>0.068</td>\n",
              "      <td>December</td>\n",
              "      <td>12</td>\n",
              "      <td>10:30:00</td>\n",
              "      <td>Monday</td>\n",
              "    </tr>\n",
              "    <tr>\n",
              "      <th>2</th>\n",
              "      <td>MAC000090</td>\n",
              "      <td>0.107</td>\n",
              "      <td>December</td>\n",
              "      <td>12</td>\n",
              "      <td>11:00:00</td>\n",
              "      <td>Monday</td>\n",
              "    </tr>\n",
              "    <tr>\n",
              "      <th>3</th>\n",
              "      <td>MAC000090</td>\n",
              "      <td>0.098</td>\n",
              "      <td>December</td>\n",
              "      <td>12</td>\n",
              "      <td>11:30:00</td>\n",
              "      <td>Monday</td>\n",
              "    </tr>\n",
              "    <tr>\n",
              "      <th>4</th>\n",
              "      <td>MAC000090</td>\n",
              "      <td>0.095</td>\n",
              "      <td>December</td>\n",
              "      <td>12</td>\n",
              "      <td>12:00:00</td>\n",
              "      <td>Monday</td>\n",
              "    </tr>\n",
              "  </tbody>\n",
              "</table>\n",
              "</div>\n",
              "      <button class=\"colab-df-convert\" onclick=\"convertToInteractive('df-4e52ef0d-43ea-48a9-8cd7-981185ed4f36')\"\n",
              "              title=\"Convert this dataframe to an interactive table.\"\n",
              "              style=\"display:none;\">\n",
              "        \n",
              "  <svg xmlns=\"http://www.w3.org/2000/svg\" height=\"24px\"viewBox=\"0 0 24 24\"\n",
              "       width=\"24px\">\n",
              "    <path d=\"M0 0h24v24H0V0z\" fill=\"none\"/>\n",
              "    <path d=\"M18.56 5.44l.94 2.06.94-2.06 2.06-.94-2.06-.94-.94-2.06-.94 2.06-2.06.94zm-11 1L8.5 8.5l.94-2.06 2.06-.94-2.06-.94L8.5 2.5l-.94 2.06-2.06.94zm10 10l.94 2.06.94-2.06 2.06-.94-2.06-.94-.94-2.06-.94 2.06-2.06.94z\"/><path d=\"M17.41 7.96l-1.37-1.37c-.4-.4-.92-.59-1.43-.59-.52 0-1.04.2-1.43.59L10.3 9.45l-7.72 7.72c-.78.78-.78 2.05 0 2.83L4 21.41c.39.39.9.59 1.41.59.51 0 1.02-.2 1.41-.59l7.78-7.78 2.81-2.81c.8-.78.8-2.07 0-2.86zM5.41 20L4 18.59l7.72-7.72 1.47 1.35L5.41 20z\"/>\n",
              "  </svg>\n",
              "      </button>\n",
              "      \n",
              "  <style>\n",
              "    .colab-df-container {\n",
              "      display:flex;\n",
              "      flex-wrap:wrap;\n",
              "      gap: 12px;\n",
              "    }\n",
              "\n",
              "    .colab-df-convert {\n",
              "      background-color: #E8F0FE;\n",
              "      border: none;\n",
              "      border-radius: 50%;\n",
              "      cursor: pointer;\n",
              "      display: none;\n",
              "      fill: #1967D2;\n",
              "      height: 32px;\n",
              "      padding: 0 0 0 0;\n",
              "      width: 32px;\n",
              "    }\n",
              "\n",
              "    .colab-df-convert:hover {\n",
              "      background-color: #E2EBFA;\n",
              "      box-shadow: 0px 1px 2px rgba(60, 64, 67, 0.3), 0px 1px 3px 1px rgba(60, 64, 67, 0.15);\n",
              "      fill: #174EA6;\n",
              "    }\n",
              "\n",
              "    [theme=dark] .colab-df-convert {\n",
              "      background-color: #3B4455;\n",
              "      fill: #D2E3FC;\n",
              "    }\n",
              "\n",
              "    [theme=dark] .colab-df-convert:hover {\n",
              "      background-color: #434B5C;\n",
              "      box-shadow: 0px 1px 3px 1px rgba(0, 0, 0, 0.15);\n",
              "      filter: drop-shadow(0px 1px 2px rgba(0, 0, 0, 0.3));\n",
              "      fill: #FFFFFF;\n",
              "    }\n",
              "  </style>\n",
              "\n",
              "      <script>\n",
              "        const buttonEl =\n",
              "          document.querySelector('#df-4e52ef0d-43ea-48a9-8cd7-981185ed4f36 button.colab-df-convert');\n",
              "        buttonEl.style.display =\n",
              "          google.colab.kernel.accessAllowed ? 'block' : 'none';\n",
              "\n",
              "        async function convertToInteractive(key) {\n",
              "          const element = document.querySelector('#df-4e52ef0d-43ea-48a9-8cd7-981185ed4f36');\n",
              "          const dataTable =\n",
              "            await google.colab.kernel.invokeFunction('convertToInteractive',\n",
              "                                                     [key], {});\n",
              "          if (!dataTable) return;\n",
              "\n",
              "          const docLinkHtml = 'Like what you see? Visit the ' +\n",
              "            '<a target=\"_blank\" href=https://colab.research.google.com/notebooks/data_table.ipynb>data table notebook</a>'\n",
              "            + ' to learn more about interactive tables.';\n",
              "          element.innerHTML = '';\n",
              "          dataTable['output_type'] = 'display_data';\n",
              "          await google.colab.output.renderOutput(dataTable, element);\n",
              "          const docLink = document.createElement('div');\n",
              "          docLink.innerHTML = docLinkHtml;\n",
              "          element.appendChild(docLink);\n",
              "        }\n",
              "      </script>\n",
              "    </div>\n",
              "  </div>\n",
              "  "
            ]
          },
          "metadata": {},
          "execution_count": 26
        }
      ],
      "source": [
        "df104.head()"
      ]
    },
    {
      "cell_type": "code",
      "execution_count": null,
      "metadata": {
        "id": "uWhhUAaoTvfc",
        "outputId": "fa7835be-dd89-44af-b8bf-35995c97a91f",
        "colab": {
          "base_uri": "https://localhost:8080/",
          "height": 206
        }
      },
      "outputs": [
        {
          "output_type": "execute_result",
          "data": {
            "text/plain": [
              "       LCLid  energy(kWh/hh)     month day_of_month      time   weekday\n",
              "0  MAC000079           1.387  December           10  11:00:00  Saturday\n",
              "1  MAC000079           2.733  December           10  11:30:00  Saturday\n",
              "2  MAC000079           2.872  December           10  12:00:00  Saturday\n",
              "3  MAC000079           1.697  December           10  12:30:00  Saturday\n",
              "4  MAC000079           1.238  December           10  13:00:00  Saturday"
            ],
            "text/html": [
              "\n",
              "  <div id=\"df-992347ad-831f-4dd9-ab83-3e9eec4818d0\">\n",
              "    <div class=\"colab-df-container\">\n",
              "      <div>\n",
              "<style scoped>\n",
              "    .dataframe tbody tr th:only-of-type {\n",
              "        vertical-align: middle;\n",
              "    }\n",
              "\n",
              "    .dataframe tbody tr th {\n",
              "        vertical-align: top;\n",
              "    }\n",
              "\n",
              "    .dataframe thead th {\n",
              "        text-align: right;\n",
              "    }\n",
              "</style>\n",
              "<table border=\"1\" class=\"dataframe\">\n",
              "  <thead>\n",
              "    <tr style=\"text-align: right;\">\n",
              "      <th></th>\n",
              "      <th>LCLid</th>\n",
              "      <th>energy(kWh/hh)</th>\n",
              "      <th>month</th>\n",
              "      <th>day_of_month</th>\n",
              "      <th>time</th>\n",
              "      <th>weekday</th>\n",
              "    </tr>\n",
              "  </thead>\n",
              "  <tbody>\n",
              "    <tr>\n",
              "      <th>0</th>\n",
              "      <td>MAC000079</td>\n",
              "      <td>1.387</td>\n",
              "      <td>December</td>\n",
              "      <td>10</td>\n",
              "      <td>11:00:00</td>\n",
              "      <td>Saturday</td>\n",
              "    </tr>\n",
              "    <tr>\n",
              "      <th>1</th>\n",
              "      <td>MAC000079</td>\n",
              "      <td>2.733</td>\n",
              "      <td>December</td>\n",
              "      <td>10</td>\n",
              "      <td>11:30:00</td>\n",
              "      <td>Saturday</td>\n",
              "    </tr>\n",
              "    <tr>\n",
              "      <th>2</th>\n",
              "      <td>MAC000079</td>\n",
              "      <td>2.872</td>\n",
              "      <td>December</td>\n",
              "      <td>10</td>\n",
              "      <td>12:00:00</td>\n",
              "      <td>Saturday</td>\n",
              "    </tr>\n",
              "    <tr>\n",
              "      <th>3</th>\n",
              "      <td>MAC000079</td>\n",
              "      <td>1.697</td>\n",
              "      <td>December</td>\n",
              "      <td>10</td>\n",
              "      <td>12:30:00</td>\n",
              "      <td>Saturday</td>\n",
              "    </tr>\n",
              "    <tr>\n",
              "      <th>4</th>\n",
              "      <td>MAC000079</td>\n",
              "      <td>1.238</td>\n",
              "      <td>December</td>\n",
              "      <td>10</td>\n",
              "      <td>13:00:00</td>\n",
              "      <td>Saturday</td>\n",
              "    </tr>\n",
              "  </tbody>\n",
              "</table>\n",
              "</div>\n",
              "      <button class=\"colab-df-convert\" onclick=\"convertToInteractive('df-992347ad-831f-4dd9-ab83-3e9eec4818d0')\"\n",
              "              title=\"Convert this dataframe to an interactive table.\"\n",
              "              style=\"display:none;\">\n",
              "        \n",
              "  <svg xmlns=\"http://www.w3.org/2000/svg\" height=\"24px\"viewBox=\"0 0 24 24\"\n",
              "       width=\"24px\">\n",
              "    <path d=\"M0 0h24v24H0V0z\" fill=\"none\"/>\n",
              "    <path d=\"M18.56 5.44l.94 2.06.94-2.06 2.06-.94-2.06-.94-.94-2.06-.94 2.06-2.06.94zm-11 1L8.5 8.5l.94-2.06 2.06-.94-2.06-.94L8.5 2.5l-.94 2.06-2.06.94zm10 10l.94 2.06.94-2.06 2.06-.94-2.06-.94-.94-2.06-.94 2.06-2.06.94z\"/><path d=\"M17.41 7.96l-1.37-1.37c-.4-.4-.92-.59-1.43-.59-.52 0-1.04.2-1.43.59L10.3 9.45l-7.72 7.72c-.78.78-.78 2.05 0 2.83L4 21.41c.39.39.9.59 1.41.59.51 0 1.02-.2 1.41-.59l7.78-7.78 2.81-2.81c.8-.78.8-2.07 0-2.86zM5.41 20L4 18.59l7.72-7.72 1.47 1.35L5.41 20z\"/>\n",
              "  </svg>\n",
              "      </button>\n",
              "      \n",
              "  <style>\n",
              "    .colab-df-container {\n",
              "      display:flex;\n",
              "      flex-wrap:wrap;\n",
              "      gap: 12px;\n",
              "    }\n",
              "\n",
              "    .colab-df-convert {\n",
              "      background-color: #E8F0FE;\n",
              "      border: none;\n",
              "      border-radius: 50%;\n",
              "      cursor: pointer;\n",
              "      display: none;\n",
              "      fill: #1967D2;\n",
              "      height: 32px;\n",
              "      padding: 0 0 0 0;\n",
              "      width: 32px;\n",
              "    }\n",
              "\n",
              "    .colab-df-convert:hover {\n",
              "      background-color: #E2EBFA;\n",
              "      box-shadow: 0px 1px 2px rgba(60, 64, 67, 0.3), 0px 1px 3px 1px rgba(60, 64, 67, 0.15);\n",
              "      fill: #174EA6;\n",
              "    }\n",
              "\n",
              "    [theme=dark] .colab-df-convert {\n",
              "      background-color: #3B4455;\n",
              "      fill: #D2E3FC;\n",
              "    }\n",
              "\n",
              "    [theme=dark] .colab-df-convert:hover {\n",
              "      background-color: #434B5C;\n",
              "      box-shadow: 0px 1px 3px 1px rgba(0, 0, 0, 0.15);\n",
              "      filter: drop-shadow(0px 1px 2px rgba(0, 0, 0, 0.3));\n",
              "      fill: #FFFFFF;\n",
              "    }\n",
              "  </style>\n",
              "\n",
              "      <script>\n",
              "        const buttonEl =\n",
              "          document.querySelector('#df-992347ad-831f-4dd9-ab83-3e9eec4818d0 button.colab-df-convert');\n",
              "        buttonEl.style.display =\n",
              "          google.colab.kernel.accessAllowed ? 'block' : 'none';\n",
              "\n",
              "        async function convertToInteractive(key) {\n",
              "          const element = document.querySelector('#df-992347ad-831f-4dd9-ab83-3e9eec4818d0');\n",
              "          const dataTable =\n",
              "            await google.colab.kernel.invokeFunction('convertToInteractive',\n",
              "                                                     [key], {});\n",
              "          if (!dataTable) return;\n",
              "\n",
              "          const docLinkHtml = 'Like what you see? Visit the ' +\n",
              "            '<a target=\"_blank\" href=https://colab.research.google.com/notebooks/data_table.ipynb>data table notebook</a>'\n",
              "            + ' to learn more about interactive tables.';\n",
              "          element.innerHTML = '';\n",
              "          dataTable['output_type'] = 'display_data';\n",
              "          await google.colab.output.renderOutput(dataTable, element);\n",
              "          const docLink = document.createElement('div');\n",
              "          docLink.innerHTML = docLinkHtml;\n",
              "          element.appendChild(docLink);\n",
              "        }\n",
              "      </script>\n",
              "    </div>\n",
              "  </div>\n",
              "  "
            ]
          },
          "metadata": {},
          "execution_count": 27
        }
      ],
      "source": [
        "df8.head()"
      ]
    },
    {
      "cell_type": "markdown",
      "metadata": {
        "id": "qw0WKae9Tvfc"
      },
      "source": [
        "Seeing the Attributes of the data"
      ]
    },
    {
      "cell_type": "code",
      "execution_count": null,
      "metadata": {
        "id": "H3tNlrnLTvfc",
        "outputId": "16ecda4d-e464-4f73-fde8-3dc5674a9a47",
        "colab": {
          "base_uri": "https://localhost:8080/"
        }
      },
      "outputs": [
        {
          "output_type": "stream",
          "name": "stdout",
          "text": [
            "LCLid               object\n",
            "energy(kWh/hh)     float64\n",
            "month             category\n",
            "day_of_month        object\n",
            "time                object\n",
            "weekday           category\n",
            "dtype: object\n"
          ]
        }
      ],
      "source": [
        "print(df8.dtypes)"
      ]
    },
    {
      "cell_type": "markdown",
      "metadata": {
        "id": "y_P7peKwTvfc"
      },
      "source": [
        "We want to change the following into countable variables for logistic regression\n",
        "    day_of_month\n",
        "    time\n",
        "Will replace day_of_month as interger"
      ]
    },
    {
      "cell_type": "code",
      "execution_count": null,
      "metadata": {
        "id": "llpi6G8QTvfc",
        "outputId": "26a05e58-c8ff-47f7-d620-16d066e5cb54",
        "colab": {
          "base_uri": "https://localhost:8080/"
        }
      },
      "outputs": [
        {
          "output_type": "stream",
          "name": "stderr",
          "text": [
            "/usr/local/lib/python3.7/dist-packages/ipykernel_launcher.py:1: SettingWithCopyWarning: \n",
            "A value is trying to be set on a copy of a slice from a DataFrame.\n",
            "Try using .loc[row_indexer,col_indexer] = value instead\n",
            "\n",
            "See the caveats in the documentation: https://pandas.pydata.org/pandas-docs/stable/user_guide/indexing.html#returning-a-view-versus-a-copy\n",
            "  \"\"\"Entry point for launching an IPython kernel.\n"
          ]
        }
      ],
      "source": [
        "df8['day_of_month'] = pd.to_numeric(df8['day_of_month'])"
      ]
    },
    {
      "cell_type": "code",
      "execution_count": null,
      "metadata": {
        "id": "C2x3SDUcTvfc",
        "outputId": "9773b20d-3b9f-4857-8b4e-4508312b0302",
        "colab": {
          "base_uri": "https://localhost:8080/"
        }
      },
      "outputs": [
        {
          "output_type": "stream",
          "name": "stderr",
          "text": [
            "/usr/local/lib/python3.7/dist-packages/ipykernel_launcher.py:1: SettingWithCopyWarning: \n",
            "A value is trying to be set on a copy of a slice from a DataFrame.\n",
            "Try using .loc[row_indexer,col_indexer] = value instead\n",
            "\n",
            "See the caveats in the documentation: https://pandas.pydata.org/pandas-docs/stable/user_guide/indexing.html#returning-a-view-versus-a-copy\n",
            "  \"\"\"Entry point for launching an IPython kernel.\n"
          ]
        }
      ],
      "source": [
        "df104['day_of_month'] = pd.to_numeric(df104['day_of_month'])"
      ]
    },
    {
      "cell_type": "code",
      "execution_count": null,
      "metadata": {
        "id": "DzQtallXTvfd",
        "outputId": "d37d5832-c33f-45bf-a16b-381bc6bce09f",
        "colab": {
          "base_uri": "https://localhost:8080/"
        }
      },
      "outputs": [
        {
          "output_type": "stream",
          "name": "stdout",
          "text": [
            "LCLid               object\n",
            "energy(kWh/hh)     float64\n",
            "month             category\n",
            "day_of_month         int64\n",
            "time                object\n",
            "weekday           category\n",
            "dtype: object\n"
          ]
        }
      ],
      "source": [
        "print(df8.dtypes)"
      ]
    },
    {
      "cell_type": "markdown",
      "metadata": {
        "id": "uqsr-BtMTvfd"
      },
      "source": [
        "Reading the CSV file of Acorn group"
      ]
    },
    {
      "cell_type": "code",
      "execution_count": null,
      "metadata": {
        "id": "54rhpyE5Tvfd",
        "outputId": "51c3054d-ab1f-408e-fe87-662e0152e3a1",
        "colab": {
          "base_uri": "https://localhost:8080/",
          "height": 424
        }
      },
      "outputs": [
        {
          "output_type": "execute_result",
          "data": {
            "text/plain": [
              "          LCLid stdorToU    Acorn Acorn_grouped       file\n",
              "0     MAC005492      ToU   ACORN-        ACORN-    block_0\n",
              "1     MAC001074      ToU   ACORN-        ACORN-    block_0\n",
              "2     MAC000002      Std  ACORN-A      Affluent    block_0\n",
              "3     MAC003613      Std  ACORN-A      Affluent    block_0\n",
              "4     MAC003597      Std  ACORN-A      Affluent    block_0\n",
              "...         ...      ...      ...           ...        ...\n",
              "5561  MAC002056      Std  ACORN-U       ACORN-U  block_111\n",
              "5562  MAC004587      Std  ACORN-U       ACORN-U  block_111\n",
              "5563  MAC004828      Std  ACORN-U       ACORN-U  block_111\n",
              "5564  MAC001704      ToU  ACORN-U       ACORN-U  block_111\n",
              "5565  MAC002774      ToU  ACORN-U       ACORN-U  block_111\n",
              "\n",
              "[5566 rows x 5 columns]"
            ],
            "text/html": [
              "\n",
              "  <div id=\"df-9fa1292f-032b-4aea-b06e-4ff44c5e8cdc\">\n",
              "    <div class=\"colab-df-container\">\n",
              "      <div>\n",
              "<style scoped>\n",
              "    .dataframe tbody tr th:only-of-type {\n",
              "        vertical-align: middle;\n",
              "    }\n",
              "\n",
              "    .dataframe tbody tr th {\n",
              "        vertical-align: top;\n",
              "    }\n",
              "\n",
              "    .dataframe thead th {\n",
              "        text-align: right;\n",
              "    }\n",
              "</style>\n",
              "<table border=\"1\" class=\"dataframe\">\n",
              "  <thead>\n",
              "    <tr style=\"text-align: right;\">\n",
              "      <th></th>\n",
              "      <th>LCLid</th>\n",
              "      <th>stdorToU</th>\n",
              "      <th>Acorn</th>\n",
              "      <th>Acorn_grouped</th>\n",
              "      <th>file</th>\n",
              "    </tr>\n",
              "  </thead>\n",
              "  <tbody>\n",
              "    <tr>\n",
              "      <th>0</th>\n",
              "      <td>MAC005492</td>\n",
              "      <td>ToU</td>\n",
              "      <td>ACORN-</td>\n",
              "      <td>ACORN-</td>\n",
              "      <td>block_0</td>\n",
              "    </tr>\n",
              "    <tr>\n",
              "      <th>1</th>\n",
              "      <td>MAC001074</td>\n",
              "      <td>ToU</td>\n",
              "      <td>ACORN-</td>\n",
              "      <td>ACORN-</td>\n",
              "      <td>block_0</td>\n",
              "    </tr>\n",
              "    <tr>\n",
              "      <th>2</th>\n",
              "      <td>MAC000002</td>\n",
              "      <td>Std</td>\n",
              "      <td>ACORN-A</td>\n",
              "      <td>Affluent</td>\n",
              "      <td>block_0</td>\n",
              "    </tr>\n",
              "    <tr>\n",
              "      <th>3</th>\n",
              "      <td>MAC003613</td>\n",
              "      <td>Std</td>\n",
              "      <td>ACORN-A</td>\n",
              "      <td>Affluent</td>\n",
              "      <td>block_0</td>\n",
              "    </tr>\n",
              "    <tr>\n",
              "      <th>4</th>\n",
              "      <td>MAC003597</td>\n",
              "      <td>Std</td>\n",
              "      <td>ACORN-A</td>\n",
              "      <td>Affluent</td>\n",
              "      <td>block_0</td>\n",
              "    </tr>\n",
              "    <tr>\n",
              "      <th>...</th>\n",
              "      <td>...</td>\n",
              "      <td>...</td>\n",
              "      <td>...</td>\n",
              "      <td>...</td>\n",
              "      <td>...</td>\n",
              "    </tr>\n",
              "    <tr>\n",
              "      <th>5561</th>\n",
              "      <td>MAC002056</td>\n",
              "      <td>Std</td>\n",
              "      <td>ACORN-U</td>\n",
              "      <td>ACORN-U</td>\n",
              "      <td>block_111</td>\n",
              "    </tr>\n",
              "    <tr>\n",
              "      <th>5562</th>\n",
              "      <td>MAC004587</td>\n",
              "      <td>Std</td>\n",
              "      <td>ACORN-U</td>\n",
              "      <td>ACORN-U</td>\n",
              "      <td>block_111</td>\n",
              "    </tr>\n",
              "    <tr>\n",
              "      <th>5563</th>\n",
              "      <td>MAC004828</td>\n",
              "      <td>Std</td>\n",
              "      <td>ACORN-U</td>\n",
              "      <td>ACORN-U</td>\n",
              "      <td>block_111</td>\n",
              "    </tr>\n",
              "    <tr>\n",
              "      <th>5564</th>\n",
              "      <td>MAC001704</td>\n",
              "      <td>ToU</td>\n",
              "      <td>ACORN-U</td>\n",
              "      <td>ACORN-U</td>\n",
              "      <td>block_111</td>\n",
              "    </tr>\n",
              "    <tr>\n",
              "      <th>5565</th>\n",
              "      <td>MAC002774</td>\n",
              "      <td>ToU</td>\n",
              "      <td>ACORN-U</td>\n",
              "      <td>ACORN-U</td>\n",
              "      <td>block_111</td>\n",
              "    </tr>\n",
              "  </tbody>\n",
              "</table>\n",
              "<p>5566 rows × 5 columns</p>\n",
              "</div>\n",
              "      <button class=\"colab-df-convert\" onclick=\"convertToInteractive('df-9fa1292f-032b-4aea-b06e-4ff44c5e8cdc')\"\n",
              "              title=\"Convert this dataframe to an interactive table.\"\n",
              "              style=\"display:none;\">\n",
              "        \n",
              "  <svg xmlns=\"http://www.w3.org/2000/svg\" height=\"24px\"viewBox=\"0 0 24 24\"\n",
              "       width=\"24px\">\n",
              "    <path d=\"M0 0h24v24H0V0z\" fill=\"none\"/>\n",
              "    <path d=\"M18.56 5.44l.94 2.06.94-2.06 2.06-.94-2.06-.94-.94-2.06-.94 2.06-2.06.94zm-11 1L8.5 8.5l.94-2.06 2.06-.94-2.06-.94L8.5 2.5l-.94 2.06-2.06.94zm10 10l.94 2.06.94-2.06 2.06-.94-2.06-.94-.94-2.06-.94 2.06-2.06.94z\"/><path d=\"M17.41 7.96l-1.37-1.37c-.4-.4-.92-.59-1.43-.59-.52 0-1.04.2-1.43.59L10.3 9.45l-7.72 7.72c-.78.78-.78 2.05 0 2.83L4 21.41c.39.39.9.59 1.41.59.51 0 1.02-.2 1.41-.59l7.78-7.78 2.81-2.81c.8-.78.8-2.07 0-2.86zM5.41 20L4 18.59l7.72-7.72 1.47 1.35L5.41 20z\"/>\n",
              "  </svg>\n",
              "      </button>\n",
              "      \n",
              "  <style>\n",
              "    .colab-df-container {\n",
              "      display:flex;\n",
              "      flex-wrap:wrap;\n",
              "      gap: 12px;\n",
              "    }\n",
              "\n",
              "    .colab-df-convert {\n",
              "      background-color: #E8F0FE;\n",
              "      border: none;\n",
              "      border-radius: 50%;\n",
              "      cursor: pointer;\n",
              "      display: none;\n",
              "      fill: #1967D2;\n",
              "      height: 32px;\n",
              "      padding: 0 0 0 0;\n",
              "      width: 32px;\n",
              "    }\n",
              "\n",
              "    .colab-df-convert:hover {\n",
              "      background-color: #E2EBFA;\n",
              "      box-shadow: 0px 1px 2px rgba(60, 64, 67, 0.3), 0px 1px 3px 1px rgba(60, 64, 67, 0.15);\n",
              "      fill: #174EA6;\n",
              "    }\n",
              "\n",
              "    [theme=dark] .colab-df-convert {\n",
              "      background-color: #3B4455;\n",
              "      fill: #D2E3FC;\n",
              "    }\n",
              "\n",
              "    [theme=dark] .colab-df-convert:hover {\n",
              "      background-color: #434B5C;\n",
              "      box-shadow: 0px 1px 3px 1px rgba(0, 0, 0, 0.15);\n",
              "      filter: drop-shadow(0px 1px 2px rgba(0, 0, 0, 0.3));\n",
              "      fill: #FFFFFF;\n",
              "    }\n",
              "  </style>\n",
              "\n",
              "      <script>\n",
              "        const buttonEl =\n",
              "          document.querySelector('#df-9fa1292f-032b-4aea-b06e-4ff44c5e8cdc button.colab-df-convert');\n",
              "        buttonEl.style.display =\n",
              "          google.colab.kernel.accessAllowed ? 'block' : 'none';\n",
              "\n",
              "        async function convertToInteractive(key) {\n",
              "          const element = document.querySelector('#df-9fa1292f-032b-4aea-b06e-4ff44c5e8cdc');\n",
              "          const dataTable =\n",
              "            await google.colab.kernel.invokeFunction('convertToInteractive',\n",
              "                                                     [key], {});\n",
              "          if (!dataTable) return;\n",
              "\n",
              "          const docLinkHtml = 'Like what you see? Visit the ' +\n",
              "            '<a target=\"_blank\" href=https://colab.research.google.com/notebooks/data_table.ipynb>data table notebook</a>'\n",
              "            + ' to learn more about interactive tables.';\n",
              "          element.innerHTML = '';\n",
              "          dataTable['output_type'] = 'display_data';\n",
              "          await google.colab.output.renderOutput(dataTable, element);\n",
              "          const docLink = document.createElement('div');\n",
              "          docLink.innerHTML = docLinkHtml;\n",
              "          element.appendChild(docLink);\n",
              "        }\n",
              "      </script>\n",
              "    </div>\n",
              "  </div>\n",
              "  "
            ]
          },
          "metadata": {},
          "execution_count": 35
        }
      ],
      "source": [
        "acorn_data = pd.read_csv('/content/informations_households.csv')\n",
        "\n",
        "acorn_data"
      ]
    },
    {
      "cell_type": "markdown",
      "metadata": {
        "id": "7Z0bKVh0Tvfd"
      },
      "source": [
        "Getting the Acorn group"
      ]
    },
    {
      "cell_type": "code",
      "execution_count": null,
      "metadata": {
        "id": "KKk9TE9CTvfd"
      },
      "outputs": [],
      "source": [
        "acorn_data_8 = acorn_data.loc[acorn_data['LCLid'] == 'MAC000079']\n",
        "acorn_data_104 = acorn_data.loc[acorn_data['LCLid'] == 'MAC000090']"
      ]
    },
    {
      "cell_type": "code",
      "execution_count": null,
      "metadata": {
        "id": "y5zm-HRvTvfd"
      },
      "outputs": [],
      "source": [
        "df8_merged = pd.merge(df8,acorn_data_8, on = 'LCLid', how = 'left')"
      ]
    },
    {
      "cell_type": "code",
      "execution_count": null,
      "metadata": {
        "id": "g4-pPWDbTvfe"
      },
      "outputs": [],
      "source": [
        "df104_merged = pd.merge(df104,acorn_data_104, on = 'LCLid', how = 'left')"
      ]
    },
    {
      "cell_type": "code",
      "execution_count": null,
      "metadata": {
        "id": "9ZkK4zhmTvfe",
        "outputId": "f81cb8a3-c59a-4cdf-e89e-95b91915d06c",
        "colab": {
          "base_uri": "https://localhost:8080/",
          "height": 661
        }
      },
      "outputs": [
        {
          "output_type": "execute_result",
          "data": {
            "text/plain": [
              "           LCLid  energy(kWh/hh)     month  day_of_month      time   weekday  \\\n",
              "0      MAC000079           1.387  December            10  11:00:00  Saturday   \n",
              "1      MAC000079           2.733  December            10  11:30:00  Saturday   \n",
              "2      MAC000079           2.872  December            10  12:00:00  Saturday   \n",
              "3      MAC000079           1.697  December            10  12:30:00  Saturday   \n",
              "4      MAC000079           1.238  December            10  13:00:00  Saturday   \n",
              "...          ...             ...       ...           ...       ...       ...   \n",
              "38131  MAC000079           1.555  February            27  22:00:00  Thursday   \n",
              "38132  MAC000079           0.921  February            27  22:30:00  Thursday   \n",
              "38133  MAC000079           0.437  February            27  23:00:00  Thursday   \n",
              "38134  MAC000079           0.430  February            27  23:30:00  Thursday   \n",
              "38135  MAC000079           0.744  February            28  00:00:00    Friday   \n",
              "\n",
              "      stdorToU    Acorn Acorn_grouped     file  \n",
              "0          Std  ACORN-D      Affluent  block_8  \n",
              "1          Std  ACORN-D      Affluent  block_8  \n",
              "2          Std  ACORN-D      Affluent  block_8  \n",
              "3          Std  ACORN-D      Affluent  block_8  \n",
              "4          Std  ACORN-D      Affluent  block_8  \n",
              "...        ...      ...           ...      ...  \n",
              "38131      Std  ACORN-D      Affluent  block_8  \n",
              "38132      Std  ACORN-D      Affluent  block_8  \n",
              "38133      Std  ACORN-D      Affluent  block_8  \n",
              "38134      Std  ACORN-D      Affluent  block_8  \n",
              "38135      Std  ACORN-D      Affluent  block_8  \n",
              "\n",
              "[38136 rows x 10 columns]"
            ],
            "text/html": [
              "\n",
              "  <div id=\"df-b69ad6b3-b117-4a94-bfe8-b32c8c184286\">\n",
              "    <div class=\"colab-df-container\">\n",
              "      <div>\n",
              "<style scoped>\n",
              "    .dataframe tbody tr th:only-of-type {\n",
              "        vertical-align: middle;\n",
              "    }\n",
              "\n",
              "    .dataframe tbody tr th {\n",
              "        vertical-align: top;\n",
              "    }\n",
              "\n",
              "    .dataframe thead th {\n",
              "        text-align: right;\n",
              "    }\n",
              "</style>\n",
              "<table border=\"1\" class=\"dataframe\">\n",
              "  <thead>\n",
              "    <tr style=\"text-align: right;\">\n",
              "      <th></th>\n",
              "      <th>LCLid</th>\n",
              "      <th>energy(kWh/hh)</th>\n",
              "      <th>month</th>\n",
              "      <th>day_of_month</th>\n",
              "      <th>time</th>\n",
              "      <th>weekday</th>\n",
              "      <th>stdorToU</th>\n",
              "      <th>Acorn</th>\n",
              "      <th>Acorn_grouped</th>\n",
              "      <th>file</th>\n",
              "    </tr>\n",
              "  </thead>\n",
              "  <tbody>\n",
              "    <tr>\n",
              "      <th>0</th>\n",
              "      <td>MAC000079</td>\n",
              "      <td>1.387</td>\n",
              "      <td>December</td>\n",
              "      <td>10</td>\n",
              "      <td>11:00:00</td>\n",
              "      <td>Saturday</td>\n",
              "      <td>Std</td>\n",
              "      <td>ACORN-D</td>\n",
              "      <td>Affluent</td>\n",
              "      <td>block_8</td>\n",
              "    </tr>\n",
              "    <tr>\n",
              "      <th>1</th>\n",
              "      <td>MAC000079</td>\n",
              "      <td>2.733</td>\n",
              "      <td>December</td>\n",
              "      <td>10</td>\n",
              "      <td>11:30:00</td>\n",
              "      <td>Saturday</td>\n",
              "      <td>Std</td>\n",
              "      <td>ACORN-D</td>\n",
              "      <td>Affluent</td>\n",
              "      <td>block_8</td>\n",
              "    </tr>\n",
              "    <tr>\n",
              "      <th>2</th>\n",
              "      <td>MAC000079</td>\n",
              "      <td>2.872</td>\n",
              "      <td>December</td>\n",
              "      <td>10</td>\n",
              "      <td>12:00:00</td>\n",
              "      <td>Saturday</td>\n",
              "      <td>Std</td>\n",
              "      <td>ACORN-D</td>\n",
              "      <td>Affluent</td>\n",
              "      <td>block_8</td>\n",
              "    </tr>\n",
              "    <tr>\n",
              "      <th>3</th>\n",
              "      <td>MAC000079</td>\n",
              "      <td>1.697</td>\n",
              "      <td>December</td>\n",
              "      <td>10</td>\n",
              "      <td>12:30:00</td>\n",
              "      <td>Saturday</td>\n",
              "      <td>Std</td>\n",
              "      <td>ACORN-D</td>\n",
              "      <td>Affluent</td>\n",
              "      <td>block_8</td>\n",
              "    </tr>\n",
              "    <tr>\n",
              "      <th>4</th>\n",
              "      <td>MAC000079</td>\n",
              "      <td>1.238</td>\n",
              "      <td>December</td>\n",
              "      <td>10</td>\n",
              "      <td>13:00:00</td>\n",
              "      <td>Saturday</td>\n",
              "      <td>Std</td>\n",
              "      <td>ACORN-D</td>\n",
              "      <td>Affluent</td>\n",
              "      <td>block_8</td>\n",
              "    </tr>\n",
              "    <tr>\n",
              "      <th>...</th>\n",
              "      <td>...</td>\n",
              "      <td>...</td>\n",
              "      <td>...</td>\n",
              "      <td>...</td>\n",
              "      <td>...</td>\n",
              "      <td>...</td>\n",
              "      <td>...</td>\n",
              "      <td>...</td>\n",
              "      <td>...</td>\n",
              "      <td>...</td>\n",
              "    </tr>\n",
              "    <tr>\n",
              "      <th>38131</th>\n",
              "      <td>MAC000079</td>\n",
              "      <td>1.555</td>\n",
              "      <td>February</td>\n",
              "      <td>27</td>\n",
              "      <td>22:00:00</td>\n",
              "      <td>Thursday</td>\n",
              "      <td>Std</td>\n",
              "      <td>ACORN-D</td>\n",
              "      <td>Affluent</td>\n",
              "      <td>block_8</td>\n",
              "    </tr>\n",
              "    <tr>\n",
              "      <th>38132</th>\n",
              "      <td>MAC000079</td>\n",
              "      <td>0.921</td>\n",
              "      <td>February</td>\n",
              "      <td>27</td>\n",
              "      <td>22:30:00</td>\n",
              "      <td>Thursday</td>\n",
              "      <td>Std</td>\n",
              "      <td>ACORN-D</td>\n",
              "      <td>Affluent</td>\n",
              "      <td>block_8</td>\n",
              "    </tr>\n",
              "    <tr>\n",
              "      <th>38133</th>\n",
              "      <td>MAC000079</td>\n",
              "      <td>0.437</td>\n",
              "      <td>February</td>\n",
              "      <td>27</td>\n",
              "      <td>23:00:00</td>\n",
              "      <td>Thursday</td>\n",
              "      <td>Std</td>\n",
              "      <td>ACORN-D</td>\n",
              "      <td>Affluent</td>\n",
              "      <td>block_8</td>\n",
              "    </tr>\n",
              "    <tr>\n",
              "      <th>38134</th>\n",
              "      <td>MAC000079</td>\n",
              "      <td>0.430</td>\n",
              "      <td>February</td>\n",
              "      <td>27</td>\n",
              "      <td>23:30:00</td>\n",
              "      <td>Thursday</td>\n",
              "      <td>Std</td>\n",
              "      <td>ACORN-D</td>\n",
              "      <td>Affluent</td>\n",
              "      <td>block_8</td>\n",
              "    </tr>\n",
              "    <tr>\n",
              "      <th>38135</th>\n",
              "      <td>MAC000079</td>\n",
              "      <td>0.744</td>\n",
              "      <td>February</td>\n",
              "      <td>28</td>\n",
              "      <td>00:00:00</td>\n",
              "      <td>Friday</td>\n",
              "      <td>Std</td>\n",
              "      <td>ACORN-D</td>\n",
              "      <td>Affluent</td>\n",
              "      <td>block_8</td>\n",
              "    </tr>\n",
              "  </tbody>\n",
              "</table>\n",
              "<p>38136 rows × 10 columns</p>\n",
              "</div>\n",
              "      <button class=\"colab-df-convert\" onclick=\"convertToInteractive('df-b69ad6b3-b117-4a94-bfe8-b32c8c184286')\"\n",
              "              title=\"Convert this dataframe to an interactive table.\"\n",
              "              style=\"display:none;\">\n",
              "        \n",
              "  <svg xmlns=\"http://www.w3.org/2000/svg\" height=\"24px\"viewBox=\"0 0 24 24\"\n",
              "       width=\"24px\">\n",
              "    <path d=\"M0 0h24v24H0V0z\" fill=\"none\"/>\n",
              "    <path d=\"M18.56 5.44l.94 2.06.94-2.06 2.06-.94-2.06-.94-.94-2.06-.94 2.06-2.06.94zm-11 1L8.5 8.5l.94-2.06 2.06-.94-2.06-.94L8.5 2.5l-.94 2.06-2.06.94zm10 10l.94 2.06.94-2.06 2.06-.94-2.06-.94-.94-2.06-.94 2.06-2.06.94z\"/><path d=\"M17.41 7.96l-1.37-1.37c-.4-.4-.92-.59-1.43-.59-.52 0-1.04.2-1.43.59L10.3 9.45l-7.72 7.72c-.78.78-.78 2.05 0 2.83L4 21.41c.39.39.9.59 1.41.59.51 0 1.02-.2 1.41-.59l7.78-7.78 2.81-2.81c.8-.78.8-2.07 0-2.86zM5.41 20L4 18.59l7.72-7.72 1.47 1.35L5.41 20z\"/>\n",
              "  </svg>\n",
              "      </button>\n",
              "      \n",
              "  <style>\n",
              "    .colab-df-container {\n",
              "      display:flex;\n",
              "      flex-wrap:wrap;\n",
              "      gap: 12px;\n",
              "    }\n",
              "\n",
              "    .colab-df-convert {\n",
              "      background-color: #E8F0FE;\n",
              "      border: none;\n",
              "      border-radius: 50%;\n",
              "      cursor: pointer;\n",
              "      display: none;\n",
              "      fill: #1967D2;\n",
              "      height: 32px;\n",
              "      padding: 0 0 0 0;\n",
              "      width: 32px;\n",
              "    }\n",
              "\n",
              "    .colab-df-convert:hover {\n",
              "      background-color: #E2EBFA;\n",
              "      box-shadow: 0px 1px 2px rgba(60, 64, 67, 0.3), 0px 1px 3px 1px rgba(60, 64, 67, 0.15);\n",
              "      fill: #174EA6;\n",
              "    }\n",
              "\n",
              "    [theme=dark] .colab-df-convert {\n",
              "      background-color: #3B4455;\n",
              "      fill: #D2E3FC;\n",
              "    }\n",
              "\n",
              "    [theme=dark] .colab-df-convert:hover {\n",
              "      background-color: #434B5C;\n",
              "      box-shadow: 0px 1px 3px 1px rgba(0, 0, 0, 0.15);\n",
              "      filter: drop-shadow(0px 1px 2px rgba(0, 0, 0, 0.3));\n",
              "      fill: #FFFFFF;\n",
              "    }\n",
              "  </style>\n",
              "\n",
              "      <script>\n",
              "        const buttonEl =\n",
              "          document.querySelector('#df-b69ad6b3-b117-4a94-bfe8-b32c8c184286 button.colab-df-convert');\n",
              "        buttonEl.style.display =\n",
              "          google.colab.kernel.accessAllowed ? 'block' : 'none';\n",
              "\n",
              "        async function convertToInteractive(key) {\n",
              "          const element = document.querySelector('#df-b69ad6b3-b117-4a94-bfe8-b32c8c184286');\n",
              "          const dataTable =\n",
              "            await google.colab.kernel.invokeFunction('convertToInteractive',\n",
              "                                                     [key], {});\n",
              "          if (!dataTable) return;\n",
              "\n",
              "          const docLinkHtml = 'Like what you see? Visit the ' +\n",
              "            '<a target=\"_blank\" href=https://colab.research.google.com/notebooks/data_table.ipynb>data table notebook</a>'\n",
              "            + ' to learn more about interactive tables.';\n",
              "          element.innerHTML = '';\n",
              "          dataTable['output_type'] = 'display_data';\n",
              "          await google.colab.output.renderOutput(dataTable, element);\n",
              "          const docLink = document.createElement('div');\n",
              "          docLink.innerHTML = docLinkHtml;\n",
              "          element.appendChild(docLink);\n",
              "        }\n",
              "      </script>\n",
              "    </div>\n",
              "  </div>\n",
              "  "
            ]
          },
          "metadata": {},
          "execution_count": 39
        }
      ],
      "source": [
        "df8_merged"
      ]
    },
    {
      "cell_type": "code",
      "execution_count": null,
      "metadata": {
        "id": "ukKzD-bBTvfe",
        "outputId": "ce23677b-32c6-4db6-a832-9e77311f2766",
        "colab": {
          "base_uri": "https://localhost:8080/"
        }
      },
      "outputs": [
        {
          "output_type": "stream",
          "name": "stdout",
          "text": [
            "LCLid               object\n",
            "energy(kWh/hh)     float64\n",
            "month             category\n",
            "day_of_month         int64\n",
            "time                object\n",
            "weekday           category\n",
            "stdorToU            object\n",
            "Acorn               object\n",
            "Acorn_grouped       object\n",
            "file                object\n",
            "dtype: object\n"
          ]
        }
      ],
      "source": [
        "print(df8_merged.dtypes)"
      ]
    },
    {
      "cell_type": "markdown",
      "metadata": {
        "id": "XYRb-dzjTvfe"
      },
      "source": [
        "Dropping more items"
      ]
    },
    {
      "cell_type": "code",
      "execution_count": null,
      "metadata": {
        "id": "qGzKVmdoTvfe"
      },
      "outputs": [],
      "source": [
        "df8_merged.drop('stdorToU', inplace=True, axis=1)"
      ]
    },
    {
      "cell_type": "code",
      "execution_count": null,
      "metadata": {
        "id": "NFQ3N3FTTvfe"
      },
      "outputs": [],
      "source": [
        "df104_merged.drop('stdorToU', inplace=True, axis=1)"
      ]
    },
    {
      "cell_type": "code",
      "execution_count": null,
      "metadata": {
        "id": "SgWth6uBTvfe"
      },
      "outputs": [],
      "source": [
        "df8_merged.drop('Acorn', inplace=True, axis=1)"
      ]
    },
    {
      "cell_type": "code",
      "execution_count": null,
      "metadata": {
        "id": "GJOq_tA_Tvfe"
      },
      "outputs": [],
      "source": [
        "df104_merged.drop('Acorn', inplace=True, axis=1)"
      ]
    },
    {
      "cell_type": "code",
      "execution_count": null,
      "metadata": {
        "id": "VN_cIRBRTvfe"
      },
      "outputs": [],
      "source": [
        "df8_merged.drop('file', inplace=True, axis=1)"
      ]
    },
    {
      "cell_type": "code",
      "execution_count": null,
      "metadata": {
        "id": "ZTpW3gQ8Tvff"
      },
      "outputs": [],
      "source": [
        "df104_merged.drop('file', inplace=True, axis=1)"
      ]
    },
    {
      "cell_type": "code",
      "execution_count": null,
      "metadata": {
        "id": "n9AZmCkPTvff",
        "outputId": "f1843b5d-6c8f-4534-b3a4-629ef0a17a77",
        "colab": {
          "base_uri": "https://localhost:8080/",
          "height": 424
        }
      },
      "outputs": [
        {
          "output_type": "execute_result",
          "data": {
            "text/plain": [
              "           LCLid  energy(kWh/hh)     month  day_of_month      time   weekday  \\\n",
              "0      MAC000079           1.387  December            10  11:00:00  Saturday   \n",
              "1      MAC000079           2.733  December            10  11:30:00  Saturday   \n",
              "2      MAC000079           2.872  December            10  12:00:00  Saturday   \n",
              "3      MAC000079           1.697  December            10  12:30:00  Saturday   \n",
              "4      MAC000079           1.238  December            10  13:00:00  Saturday   \n",
              "...          ...             ...       ...           ...       ...       ...   \n",
              "38131  MAC000079           1.555  February            27  22:00:00  Thursday   \n",
              "38132  MAC000079           0.921  February            27  22:30:00  Thursday   \n",
              "38133  MAC000079           0.437  February            27  23:00:00  Thursday   \n",
              "38134  MAC000079           0.430  February            27  23:30:00  Thursday   \n",
              "38135  MAC000079           0.744  February            28  00:00:00    Friday   \n",
              "\n",
              "      Acorn_grouped  \n",
              "0          Affluent  \n",
              "1          Affluent  \n",
              "2          Affluent  \n",
              "3          Affluent  \n",
              "4          Affluent  \n",
              "...             ...  \n",
              "38131      Affluent  \n",
              "38132      Affluent  \n",
              "38133      Affluent  \n",
              "38134      Affluent  \n",
              "38135      Affluent  \n",
              "\n",
              "[38136 rows x 7 columns]"
            ],
            "text/html": [
              "\n",
              "  <div id=\"df-07dbb008-19ee-42f7-a85b-99de89a03402\">\n",
              "    <div class=\"colab-df-container\">\n",
              "      <div>\n",
              "<style scoped>\n",
              "    .dataframe tbody tr th:only-of-type {\n",
              "        vertical-align: middle;\n",
              "    }\n",
              "\n",
              "    .dataframe tbody tr th {\n",
              "        vertical-align: top;\n",
              "    }\n",
              "\n",
              "    .dataframe thead th {\n",
              "        text-align: right;\n",
              "    }\n",
              "</style>\n",
              "<table border=\"1\" class=\"dataframe\">\n",
              "  <thead>\n",
              "    <tr style=\"text-align: right;\">\n",
              "      <th></th>\n",
              "      <th>LCLid</th>\n",
              "      <th>energy(kWh/hh)</th>\n",
              "      <th>month</th>\n",
              "      <th>day_of_month</th>\n",
              "      <th>time</th>\n",
              "      <th>weekday</th>\n",
              "      <th>Acorn_grouped</th>\n",
              "    </tr>\n",
              "  </thead>\n",
              "  <tbody>\n",
              "    <tr>\n",
              "      <th>0</th>\n",
              "      <td>MAC000079</td>\n",
              "      <td>1.387</td>\n",
              "      <td>December</td>\n",
              "      <td>10</td>\n",
              "      <td>11:00:00</td>\n",
              "      <td>Saturday</td>\n",
              "      <td>Affluent</td>\n",
              "    </tr>\n",
              "    <tr>\n",
              "      <th>1</th>\n",
              "      <td>MAC000079</td>\n",
              "      <td>2.733</td>\n",
              "      <td>December</td>\n",
              "      <td>10</td>\n",
              "      <td>11:30:00</td>\n",
              "      <td>Saturday</td>\n",
              "      <td>Affluent</td>\n",
              "    </tr>\n",
              "    <tr>\n",
              "      <th>2</th>\n",
              "      <td>MAC000079</td>\n",
              "      <td>2.872</td>\n",
              "      <td>December</td>\n",
              "      <td>10</td>\n",
              "      <td>12:00:00</td>\n",
              "      <td>Saturday</td>\n",
              "      <td>Affluent</td>\n",
              "    </tr>\n",
              "    <tr>\n",
              "      <th>3</th>\n",
              "      <td>MAC000079</td>\n",
              "      <td>1.697</td>\n",
              "      <td>December</td>\n",
              "      <td>10</td>\n",
              "      <td>12:30:00</td>\n",
              "      <td>Saturday</td>\n",
              "      <td>Affluent</td>\n",
              "    </tr>\n",
              "    <tr>\n",
              "      <th>4</th>\n",
              "      <td>MAC000079</td>\n",
              "      <td>1.238</td>\n",
              "      <td>December</td>\n",
              "      <td>10</td>\n",
              "      <td>13:00:00</td>\n",
              "      <td>Saturday</td>\n",
              "      <td>Affluent</td>\n",
              "    </tr>\n",
              "    <tr>\n",
              "      <th>...</th>\n",
              "      <td>...</td>\n",
              "      <td>...</td>\n",
              "      <td>...</td>\n",
              "      <td>...</td>\n",
              "      <td>...</td>\n",
              "      <td>...</td>\n",
              "      <td>...</td>\n",
              "    </tr>\n",
              "    <tr>\n",
              "      <th>38131</th>\n",
              "      <td>MAC000079</td>\n",
              "      <td>1.555</td>\n",
              "      <td>February</td>\n",
              "      <td>27</td>\n",
              "      <td>22:00:00</td>\n",
              "      <td>Thursday</td>\n",
              "      <td>Affluent</td>\n",
              "    </tr>\n",
              "    <tr>\n",
              "      <th>38132</th>\n",
              "      <td>MAC000079</td>\n",
              "      <td>0.921</td>\n",
              "      <td>February</td>\n",
              "      <td>27</td>\n",
              "      <td>22:30:00</td>\n",
              "      <td>Thursday</td>\n",
              "      <td>Affluent</td>\n",
              "    </tr>\n",
              "    <tr>\n",
              "      <th>38133</th>\n",
              "      <td>MAC000079</td>\n",
              "      <td>0.437</td>\n",
              "      <td>February</td>\n",
              "      <td>27</td>\n",
              "      <td>23:00:00</td>\n",
              "      <td>Thursday</td>\n",
              "      <td>Affluent</td>\n",
              "    </tr>\n",
              "    <tr>\n",
              "      <th>38134</th>\n",
              "      <td>MAC000079</td>\n",
              "      <td>0.430</td>\n",
              "      <td>February</td>\n",
              "      <td>27</td>\n",
              "      <td>23:30:00</td>\n",
              "      <td>Thursday</td>\n",
              "      <td>Affluent</td>\n",
              "    </tr>\n",
              "    <tr>\n",
              "      <th>38135</th>\n",
              "      <td>MAC000079</td>\n",
              "      <td>0.744</td>\n",
              "      <td>February</td>\n",
              "      <td>28</td>\n",
              "      <td>00:00:00</td>\n",
              "      <td>Friday</td>\n",
              "      <td>Affluent</td>\n",
              "    </tr>\n",
              "  </tbody>\n",
              "</table>\n",
              "<p>38136 rows × 7 columns</p>\n",
              "</div>\n",
              "      <button class=\"colab-df-convert\" onclick=\"convertToInteractive('df-07dbb008-19ee-42f7-a85b-99de89a03402')\"\n",
              "              title=\"Convert this dataframe to an interactive table.\"\n",
              "              style=\"display:none;\">\n",
              "        \n",
              "  <svg xmlns=\"http://www.w3.org/2000/svg\" height=\"24px\"viewBox=\"0 0 24 24\"\n",
              "       width=\"24px\">\n",
              "    <path d=\"M0 0h24v24H0V0z\" fill=\"none\"/>\n",
              "    <path d=\"M18.56 5.44l.94 2.06.94-2.06 2.06-.94-2.06-.94-.94-2.06-.94 2.06-2.06.94zm-11 1L8.5 8.5l.94-2.06 2.06-.94-2.06-.94L8.5 2.5l-.94 2.06-2.06.94zm10 10l.94 2.06.94-2.06 2.06-.94-2.06-.94-.94-2.06-.94 2.06-2.06.94z\"/><path d=\"M17.41 7.96l-1.37-1.37c-.4-.4-.92-.59-1.43-.59-.52 0-1.04.2-1.43.59L10.3 9.45l-7.72 7.72c-.78.78-.78 2.05 0 2.83L4 21.41c.39.39.9.59 1.41.59.51 0 1.02-.2 1.41-.59l7.78-7.78 2.81-2.81c.8-.78.8-2.07 0-2.86zM5.41 20L4 18.59l7.72-7.72 1.47 1.35L5.41 20z\"/>\n",
              "  </svg>\n",
              "      </button>\n",
              "      \n",
              "  <style>\n",
              "    .colab-df-container {\n",
              "      display:flex;\n",
              "      flex-wrap:wrap;\n",
              "      gap: 12px;\n",
              "    }\n",
              "\n",
              "    .colab-df-convert {\n",
              "      background-color: #E8F0FE;\n",
              "      border: none;\n",
              "      border-radius: 50%;\n",
              "      cursor: pointer;\n",
              "      display: none;\n",
              "      fill: #1967D2;\n",
              "      height: 32px;\n",
              "      padding: 0 0 0 0;\n",
              "      width: 32px;\n",
              "    }\n",
              "\n",
              "    .colab-df-convert:hover {\n",
              "      background-color: #E2EBFA;\n",
              "      box-shadow: 0px 1px 2px rgba(60, 64, 67, 0.3), 0px 1px 3px 1px rgba(60, 64, 67, 0.15);\n",
              "      fill: #174EA6;\n",
              "    }\n",
              "\n",
              "    [theme=dark] .colab-df-convert {\n",
              "      background-color: #3B4455;\n",
              "      fill: #D2E3FC;\n",
              "    }\n",
              "\n",
              "    [theme=dark] .colab-df-convert:hover {\n",
              "      background-color: #434B5C;\n",
              "      box-shadow: 0px 1px 3px 1px rgba(0, 0, 0, 0.15);\n",
              "      filter: drop-shadow(0px 1px 2px rgba(0, 0, 0, 0.3));\n",
              "      fill: #FFFFFF;\n",
              "    }\n",
              "  </style>\n",
              "\n",
              "      <script>\n",
              "        const buttonEl =\n",
              "          document.querySelector('#df-07dbb008-19ee-42f7-a85b-99de89a03402 button.colab-df-convert');\n",
              "        buttonEl.style.display =\n",
              "          google.colab.kernel.accessAllowed ? 'block' : 'none';\n",
              "\n",
              "        async function convertToInteractive(key) {\n",
              "          const element = document.querySelector('#df-07dbb008-19ee-42f7-a85b-99de89a03402');\n",
              "          const dataTable =\n",
              "            await google.colab.kernel.invokeFunction('convertToInteractive',\n",
              "                                                     [key], {});\n",
              "          if (!dataTable) return;\n",
              "\n",
              "          const docLinkHtml = 'Like what you see? Visit the ' +\n",
              "            '<a target=\"_blank\" href=https://colab.research.google.com/notebooks/data_table.ipynb>data table notebook</a>'\n",
              "            + ' to learn more about interactive tables.';\n",
              "          element.innerHTML = '';\n",
              "          dataTable['output_type'] = 'display_data';\n",
              "          await google.colab.output.renderOutput(dataTable, element);\n",
              "          const docLink = document.createElement('div');\n",
              "          docLink.innerHTML = docLinkHtml;\n",
              "          element.appendChild(docLink);\n",
              "        }\n",
              "      </script>\n",
              "    </div>\n",
              "  </div>\n",
              "  "
            ]
          },
          "metadata": {},
          "execution_count": 47
        }
      ],
      "source": [
        "df8_merged"
      ]
    },
    {
      "cell_type": "code",
      "execution_count": null,
      "metadata": {
        "id": "RCWBWkmFTvff",
        "outputId": "a1dfd1c9-e574-426d-eec1-45fcc686160f",
        "colab": {
          "base_uri": "https://localhost:8080/"
        }
      },
      "outputs": [
        {
          "output_type": "stream",
          "name": "stdout",
          "text": [
            "LCLid               object\n",
            "energy(kWh/hh)     float64\n",
            "month             category\n",
            "day_of_month         int64\n",
            "time                object\n",
            "weekday           category\n",
            "Acorn_grouped       object\n",
            "dtype: object\n"
          ]
        }
      ],
      "source": [
        "print(df8_merged.dtypes)"
      ]
    },
    {
      "cell_type": "markdown",
      "metadata": {
        "id": "g3hUR3zTTvff"
      },
      "source": [
        "Converting into categorical "
      ]
    },
    {
      "cell_type": "code",
      "execution_count": null,
      "metadata": {
        "id": "vb2YnBS6Tvff"
      },
      "outputs": [],
      "source": [
        "df8_merged['Acorn_grouped'] = pd.Categorical(df8_merged.Acorn_grouped)"
      ]
    },
    {
      "cell_type": "code",
      "execution_count": null,
      "metadata": {
        "id": "fB5OzqRLTvff"
      },
      "outputs": [],
      "source": [
        "df104_merged['Acorn_grouped'] = pd.Categorical(df104_merged.Acorn_grouped)"
      ]
    },
    {
      "cell_type": "code",
      "execution_count": null,
      "metadata": {
        "id": "CIm2C9duTvff",
        "outputId": "fc8c0113-525d-41d8-d25e-97e08c9746ea",
        "colab": {
          "base_uri": "https://localhost:8080/"
        }
      },
      "outputs": [
        {
          "output_type": "stream",
          "name": "stdout",
          "text": [
            "LCLid               object\n",
            "energy(kWh/hh)     float64\n",
            "month             category\n",
            "day_of_month         int64\n",
            "time                object\n",
            "weekday           category\n",
            "Acorn_grouped     category\n",
            "dtype: object\n"
          ]
        }
      ],
      "source": [
        "print(df8_merged.dtypes)"
      ]
    },
    {
      "cell_type": "markdown",
      "metadata": {
        "id": "01Q-V6zkTvff"
      },
      "source": [
        "Merging both datasets together"
      ]
    },
    {
      "cell_type": "code",
      "execution_count": null,
      "metadata": {
        "id": "Y7hs3jPXTvff"
      },
      "outputs": [],
      "source": [
        "df_main = df8_merged.append(df104_merged)\n"
      ]
    },
    {
      "cell_type": "code",
      "execution_count": null,
      "metadata": {
        "id": "qmxinwQZTvfg"
      },
      "outputs": [],
      "source": [
        "df_main.drop('LCLid', inplace=True, axis=1)"
      ]
    },
    {
      "cell_type": "code",
      "execution_count": null,
      "metadata": {
        "id": "aWDZTYEjTvfg"
      },
      "outputs": [],
      "source": [
        "df_main.drop('time', inplace=True, axis=1)"
      ]
    },
    {
      "cell_type": "code",
      "execution_count": null,
      "metadata": {
        "id": "ZNOdwVIwTvfg",
        "outputId": "f7f36336-1785-4f95-d6e6-8b6d941788db",
        "colab": {
          "base_uri": "https://localhost:8080/",
          "height": 424
        }
      },
      "outputs": [
        {
          "output_type": "display_data",
          "data": {
            "text/plain": [
              "       energy(kWh/hh)     month  day_of_month   weekday Acorn_grouped\n",
              "0               1.387  December            10  Saturday      Affluent\n",
              "1               2.733  December            10  Saturday      Affluent\n",
              "2               2.872  December            10  Saturday      Affluent\n",
              "3               1.697  December            10  Saturday      Affluent\n",
              "4               1.238  December            10  Saturday      Affluent\n",
              "...               ...       ...           ...       ...           ...\n",
              "38803           0.128  February            27  Thursday     Adversity\n",
              "38804           0.170  February            27  Thursday     Adversity\n",
              "38805           0.126  February            27  Thursday     Adversity\n",
              "38806           0.114  February            27  Thursday     Adversity\n",
              "38807           0.143  February            28    Friday     Adversity\n",
              "\n",
              "[76944 rows x 5 columns]"
            ],
            "text/html": [
              "\n",
              "  <div id=\"df-0123d355-4225-46d3-935d-4cd4a271e4d5\">\n",
              "    <div class=\"colab-df-container\">\n",
              "      <div>\n",
              "<style scoped>\n",
              "    .dataframe tbody tr th:only-of-type {\n",
              "        vertical-align: middle;\n",
              "    }\n",
              "\n",
              "    .dataframe tbody tr th {\n",
              "        vertical-align: top;\n",
              "    }\n",
              "\n",
              "    .dataframe thead th {\n",
              "        text-align: right;\n",
              "    }\n",
              "</style>\n",
              "<table border=\"1\" class=\"dataframe\">\n",
              "  <thead>\n",
              "    <tr style=\"text-align: right;\">\n",
              "      <th></th>\n",
              "      <th>energy(kWh/hh)</th>\n",
              "      <th>month</th>\n",
              "      <th>day_of_month</th>\n",
              "      <th>weekday</th>\n",
              "      <th>Acorn_grouped</th>\n",
              "    </tr>\n",
              "  </thead>\n",
              "  <tbody>\n",
              "    <tr>\n",
              "      <th>0</th>\n",
              "      <td>1.387</td>\n",
              "      <td>December</td>\n",
              "      <td>10</td>\n",
              "      <td>Saturday</td>\n",
              "      <td>Affluent</td>\n",
              "    </tr>\n",
              "    <tr>\n",
              "      <th>1</th>\n",
              "      <td>2.733</td>\n",
              "      <td>December</td>\n",
              "      <td>10</td>\n",
              "      <td>Saturday</td>\n",
              "      <td>Affluent</td>\n",
              "    </tr>\n",
              "    <tr>\n",
              "      <th>2</th>\n",
              "      <td>2.872</td>\n",
              "      <td>December</td>\n",
              "      <td>10</td>\n",
              "      <td>Saturday</td>\n",
              "      <td>Affluent</td>\n",
              "    </tr>\n",
              "    <tr>\n",
              "      <th>3</th>\n",
              "      <td>1.697</td>\n",
              "      <td>December</td>\n",
              "      <td>10</td>\n",
              "      <td>Saturday</td>\n",
              "      <td>Affluent</td>\n",
              "    </tr>\n",
              "    <tr>\n",
              "      <th>4</th>\n",
              "      <td>1.238</td>\n",
              "      <td>December</td>\n",
              "      <td>10</td>\n",
              "      <td>Saturday</td>\n",
              "      <td>Affluent</td>\n",
              "    </tr>\n",
              "    <tr>\n",
              "      <th>...</th>\n",
              "      <td>...</td>\n",
              "      <td>...</td>\n",
              "      <td>...</td>\n",
              "      <td>...</td>\n",
              "      <td>...</td>\n",
              "    </tr>\n",
              "    <tr>\n",
              "      <th>38803</th>\n",
              "      <td>0.128</td>\n",
              "      <td>February</td>\n",
              "      <td>27</td>\n",
              "      <td>Thursday</td>\n",
              "      <td>Adversity</td>\n",
              "    </tr>\n",
              "    <tr>\n",
              "      <th>38804</th>\n",
              "      <td>0.170</td>\n",
              "      <td>February</td>\n",
              "      <td>27</td>\n",
              "      <td>Thursday</td>\n",
              "      <td>Adversity</td>\n",
              "    </tr>\n",
              "    <tr>\n",
              "      <th>38805</th>\n",
              "      <td>0.126</td>\n",
              "      <td>February</td>\n",
              "      <td>27</td>\n",
              "      <td>Thursday</td>\n",
              "      <td>Adversity</td>\n",
              "    </tr>\n",
              "    <tr>\n",
              "      <th>38806</th>\n",
              "      <td>0.114</td>\n",
              "      <td>February</td>\n",
              "      <td>27</td>\n",
              "      <td>Thursday</td>\n",
              "      <td>Adversity</td>\n",
              "    </tr>\n",
              "    <tr>\n",
              "      <th>38807</th>\n",
              "      <td>0.143</td>\n",
              "      <td>February</td>\n",
              "      <td>28</td>\n",
              "      <td>Friday</td>\n",
              "      <td>Adversity</td>\n",
              "    </tr>\n",
              "  </tbody>\n",
              "</table>\n",
              "<p>76944 rows × 5 columns</p>\n",
              "</div>\n",
              "      <button class=\"colab-df-convert\" onclick=\"convertToInteractive('df-0123d355-4225-46d3-935d-4cd4a271e4d5')\"\n",
              "              title=\"Convert this dataframe to an interactive table.\"\n",
              "              style=\"display:none;\">\n",
              "        \n",
              "  <svg xmlns=\"http://www.w3.org/2000/svg\" height=\"24px\"viewBox=\"0 0 24 24\"\n",
              "       width=\"24px\">\n",
              "    <path d=\"M0 0h24v24H0V0z\" fill=\"none\"/>\n",
              "    <path d=\"M18.56 5.44l.94 2.06.94-2.06 2.06-.94-2.06-.94-.94-2.06-.94 2.06-2.06.94zm-11 1L8.5 8.5l.94-2.06 2.06-.94-2.06-.94L8.5 2.5l-.94 2.06-2.06.94zm10 10l.94 2.06.94-2.06 2.06-.94-2.06-.94-.94-2.06-.94 2.06-2.06.94z\"/><path d=\"M17.41 7.96l-1.37-1.37c-.4-.4-.92-.59-1.43-.59-.52 0-1.04.2-1.43.59L10.3 9.45l-7.72 7.72c-.78.78-.78 2.05 0 2.83L4 21.41c.39.39.9.59 1.41.59.51 0 1.02-.2 1.41-.59l7.78-7.78 2.81-2.81c.8-.78.8-2.07 0-2.86zM5.41 20L4 18.59l7.72-7.72 1.47 1.35L5.41 20z\"/>\n",
              "  </svg>\n",
              "      </button>\n",
              "      \n",
              "  <style>\n",
              "    .colab-df-container {\n",
              "      display:flex;\n",
              "      flex-wrap:wrap;\n",
              "      gap: 12px;\n",
              "    }\n",
              "\n",
              "    .colab-df-convert {\n",
              "      background-color: #E8F0FE;\n",
              "      border: none;\n",
              "      border-radius: 50%;\n",
              "      cursor: pointer;\n",
              "      display: none;\n",
              "      fill: #1967D2;\n",
              "      height: 32px;\n",
              "      padding: 0 0 0 0;\n",
              "      width: 32px;\n",
              "    }\n",
              "\n",
              "    .colab-df-convert:hover {\n",
              "      background-color: #E2EBFA;\n",
              "      box-shadow: 0px 1px 2px rgba(60, 64, 67, 0.3), 0px 1px 3px 1px rgba(60, 64, 67, 0.15);\n",
              "      fill: #174EA6;\n",
              "    }\n",
              "\n",
              "    [theme=dark] .colab-df-convert {\n",
              "      background-color: #3B4455;\n",
              "      fill: #D2E3FC;\n",
              "    }\n",
              "\n",
              "    [theme=dark] .colab-df-convert:hover {\n",
              "      background-color: #434B5C;\n",
              "      box-shadow: 0px 1px 3px 1px rgba(0, 0, 0, 0.15);\n",
              "      filter: drop-shadow(0px 1px 2px rgba(0, 0, 0, 0.3));\n",
              "      fill: #FFFFFF;\n",
              "    }\n",
              "  </style>\n",
              "\n",
              "      <script>\n",
              "        const buttonEl =\n",
              "          document.querySelector('#df-0123d355-4225-46d3-935d-4cd4a271e4d5 button.colab-df-convert');\n",
              "        buttonEl.style.display =\n",
              "          google.colab.kernel.accessAllowed ? 'block' : 'none';\n",
              "\n",
              "        async function convertToInteractive(key) {\n",
              "          const element = document.querySelector('#df-0123d355-4225-46d3-935d-4cd4a271e4d5');\n",
              "          const dataTable =\n",
              "            await google.colab.kernel.invokeFunction('convertToInteractive',\n",
              "                                                     [key], {});\n",
              "          if (!dataTable) return;\n",
              "\n",
              "          const docLinkHtml = 'Like what you see? Visit the ' +\n",
              "            '<a target=\"_blank\" href=https://colab.research.google.com/notebooks/data_table.ipynb>data table notebook</a>'\n",
              "            + ' to learn more about interactive tables.';\n",
              "          element.innerHTML = '';\n",
              "          dataTable['output_type'] = 'display_data';\n",
              "          await google.colab.output.renderOutput(dataTable, element);\n",
              "          const docLink = document.createElement('div');\n",
              "          docLink.innerHTML = docLinkHtml;\n",
              "          element.appendChild(docLink);\n",
              "        }\n",
              "      </script>\n",
              "    </div>\n",
              "  </div>\n",
              "  "
            ]
          },
          "metadata": {}
        }
      ],
      "source": [
        "display(df_main)"
      ]
    },
    {
      "cell_type": "code",
      "execution_count": null,
      "metadata": {
        "id": "8TFcSDz5Tvfg",
        "colab": {
          "base_uri": "https://localhost:8080/"
        },
        "outputId": "01bf4141-a922-492a-f239-e4200f59045a"
      },
      "outputs": [
        {
          "output_type": "stream",
          "name": "stdout",
          "text": [
            "Cluster           int64\n",
            "energy(kWh/hh)    int64\n",
            "month             int64\n",
            "day_of_month      int64\n",
            "weekday           int64\n",
            "Acorn_grouped     int64\n",
            "dtype: object\n"
          ]
        }
      ],
      "source": [
        "print(df_main.dtypes)"
      ]
    },
    {
      "cell_type": "markdown",
      "metadata": {
        "id": "d4G-el59Tvfg"
      },
      "source": [
        "We can make the models"
      ]
    },
    {
      "cell_type": "code",
      "execution_count": null,
      "metadata": {
        "id": "TcuPBzjDTvfg"
      },
      "outputs": [],
      "source": [
        "#Splitting Data into X and y\n",
        "X = df_main.drop('Acorn_grouped', axis = 1)\n",
        "\n",
        "y = df_main['Acorn_grouped']"
      ]
    },
    {
      "cell_type": "code",
      "execution_count": null,
      "metadata": {
        "id": "QbcSo9ZGTvfg"
      },
      "outputs": [],
      "source": [
        "from sklearn.model_selection import train_test_split\n",
        "\n",
        "#Splitting the data into training and testing\n",
        "X_train, X_test, y_train, y_test = train_test_split(X, y, random_state=48)"
      ]
    },
    {
      "cell_type": "code",
      "execution_count": null,
      "metadata": {
        "id": "Fb7XYoCKTvfg",
        "outputId": "b846c825-0785-4c7f-fa65-c4ad32399e78",
        "colab": {
          "base_uri": "https://localhost:8080/",
          "height": 279
        }
      },
      "outputs": [
        {
          "output_type": "display_data",
          "data": {
            "text/plain": [
              "<Figure size 432x288 with 1 Axes>"
            ],
            "image/png": "[encoded data removed]"
          },
          "metadata": {
            "needs_background": "light"
          }
        }
      ],
      "source": [
        "# import k-folder\n",
        "from sklearn.model_selection import cross_val_score\n",
        "\n",
        "# choose k between 1 to 18\n",
        "k_range = range(1, 18)\n",
        "k_scores = []\n",
        "# use iteration to caclulator different k in models, then return the average accuracy based on the cross validation\n",
        "for k in k_range:\n",
        "    knn = neighbors.KNeighborsClassifier(n_neighbors=k)\n",
        "    scores = cross_val_score(knn, X, y, cv=5, scoring='accuracy')\n",
        "    k_scores.append(scores.mean())\n",
        "# plot to see clearly\n",
        "plt.plot(k_range, k_scores)\n",
        "plt.xlabel('Value of K for KNN')\n",
        "plt.ylabel('Cross-Validated Accuracy')\n",
        "plt.show()"
      ]
    },
    {
      "cell_type": "code",
      "execution_count": null,
      "metadata": {
        "id": "M8LpEgmnTvfh",
        "outputId": "ab879f50-0e76-405e-bc2c-edc8f90f2eff",
        "colab": {
          "base_uri": "https://localhost:8080/"
        }
      },
      "outputs": [
        {
          "output_type": "stream",
          "name": "stdout",
          "text": [
            "accuracy:  0.7443335412767728\n"
          ]
        },
        {
          "output_type": "execute_result",
          "data": {
            "text/plain": [
              "1.3179791459988337"
            ]
          },
          "metadata": {},
          "execution_count": 87
        }
      ],
      "source": [
        "start = timeit.default_timer()\n",
        "\n",
        "#knn\n",
        "# build KNN model and choose n_neighbors = 3\n",
        "knn = neighbors.KNeighborsClassifier(n_neighbors = 3)\n",
        "# train the model\n",
        "knn.fit(X_train, y_train)\n",
        "# get the predict value from X_test\n",
        "y_pred = knn.predict(X_test)\n",
        "\n",
        "knn_accuracy = knn.score(X_test, y_test)\n",
        "# print the score\n",
        "print('accuracy: ', knn_accuracy)\n",
        "\n",
        "stop = timeit.default_timer()\n",
        "execution_time_knn = stop - start\n",
        "execution_time_knn"
      ]
    },
    {
      "cell_type": "markdown",
      "metadata": {
        "id": "q93piJf_Tvfh"
      },
      "source": [
        "Found out about Kmodes and knew that this is applicable to this version."
      ]
    },
    {
      "cell_type": "markdown",
      "metadata": {
        "id": "DtI_7DXSTvfh"
      },
      "source": [
        "Will make a copy of data just in case if anything bad happens "
      ]
    },
    {
      "cell_type": "code",
      "execution_count": null,
      "metadata": {
        "id": "fAMV1FabTvfh"
      },
      "outputs": [],
      "source": [
        "df_main_copy = df_main.copy()"
      ]
    },
    {
      "cell_type": "code",
      "execution_count": null,
      "metadata": {
        "id": "tPo_DzUATvfh",
        "outputId": "b1a5fadc-3ce0-421d-8123-2d281278142b",
        "colab": {
          "base_uri": "https://localhost:8080/",
          "height": 206
        }
      },
      "outputs": [
        {
          "output_type": "execute_result",
          "data": {
            "text/plain": [
              "   Cluster  energy(kWh/hh)  month  day_of_month  weekday  Acorn_grouped\n",
              "0        1            1354      2             9        2              1\n",
              "1        1            2204      2             9        2              1\n",
              "2        1            2234      2             9        2              1\n",
              "3        1            1654      2             9        2              1\n",
              "4        1            1205      2             9        2              1"
            ],
            "text/html": [
              "\n",
              "  <div id=\"df-4e71172e-65b1-4bca-9213-e5c57650dd12\">\n",
              "    <div class=\"colab-df-container\">\n",
              "      <div>\n",
              "<style scoped>\n",
              "    .dataframe tbody tr th:only-of-type {\n",
              "        vertical-align: middle;\n",
              "    }\n",
              "\n",
              "    .dataframe tbody tr th {\n",
              "        vertical-align: top;\n",
              "    }\n",
              "\n",
              "    .dataframe thead th {\n",
              "        text-align: right;\n",
              "    }\n",
              "</style>\n",
              "<table border=\"1\" class=\"dataframe\">\n",
              "  <thead>\n",
              "    <tr style=\"text-align: right;\">\n",
              "      <th></th>\n",
              "      <th>Cluster</th>\n",
              "      <th>energy(kWh/hh)</th>\n",
              "      <th>month</th>\n",
              "      <th>day_of_month</th>\n",
              "      <th>weekday</th>\n",
              "      <th>Acorn_grouped</th>\n",
              "    </tr>\n",
              "  </thead>\n",
              "  <tbody>\n",
              "    <tr>\n",
              "      <th>0</th>\n",
              "      <td>1</td>\n",
              "      <td>1354</td>\n",
              "      <td>2</td>\n",
              "      <td>9</td>\n",
              "      <td>2</td>\n",
              "      <td>1</td>\n",
              "    </tr>\n",
              "    <tr>\n",
              "      <th>1</th>\n",
              "      <td>1</td>\n",
              "      <td>2204</td>\n",
              "      <td>2</td>\n",
              "      <td>9</td>\n",
              "      <td>2</td>\n",
              "      <td>1</td>\n",
              "    </tr>\n",
              "    <tr>\n",
              "      <th>2</th>\n",
              "      <td>1</td>\n",
              "      <td>2234</td>\n",
              "      <td>2</td>\n",
              "      <td>9</td>\n",
              "      <td>2</td>\n",
              "      <td>1</td>\n",
              "    </tr>\n",
              "    <tr>\n",
              "      <th>3</th>\n",
              "      <td>1</td>\n",
              "      <td>1654</td>\n",
              "      <td>2</td>\n",
              "      <td>9</td>\n",
              "      <td>2</td>\n",
              "      <td>1</td>\n",
              "    </tr>\n",
              "    <tr>\n",
              "      <th>4</th>\n",
              "      <td>1</td>\n",
              "      <td>1205</td>\n",
              "      <td>2</td>\n",
              "      <td>9</td>\n",
              "      <td>2</td>\n",
              "      <td>1</td>\n",
              "    </tr>\n",
              "  </tbody>\n",
              "</table>\n",
              "</div>\n",
              "      <button class=\"colab-df-convert\" onclick=\"convertToInteractive('df-4e71172e-65b1-4bca-9213-e5c57650dd12')\"\n",
              "              title=\"Convert this dataframe to an interactive table.\"\n",
              "              style=\"display:none;\">\n",
              "        \n",
              "  <svg xmlns=\"http://www.w3.org/2000/svg\" height=\"24px\"viewBox=\"0 0 24 24\"\n",
              "       width=\"24px\">\n",
              "    <path d=\"M0 0h24v24H0V0z\" fill=\"none\"/>\n",
              "    <path d=\"M18.56 5.44l.94 2.06.94-2.06 2.06-.94-2.06-.94-.94-2.06-.94 2.06-2.06.94zm-11 1L8.5 8.5l.94-2.06 2.06-.94-2.06-.94L8.5 2.5l-.94 2.06-2.06.94zm10 10l.94 2.06.94-2.06 2.06-.94-2.06-.94-.94-2.06-.94 2.06-2.06.94z\"/><path d=\"M17.41 7.96l-1.37-1.37c-.4-.4-.92-.59-1.43-.59-.52 0-1.04.2-1.43.59L10.3 9.45l-7.72 7.72c-.78.78-.78 2.05 0 2.83L4 21.41c.39.39.9.59 1.41.59.51 0 1.02-.2 1.41-.59l7.78-7.78 2.81-2.81c.8-.78.8-2.07 0-2.86zM5.41 20L4 18.59l7.72-7.72 1.47 1.35L5.41 20z\"/>\n",
              "  </svg>\n",
              "      </button>\n",
              "      \n",
              "  <style>\n",
              "    .colab-df-container {\n",
              "      display:flex;\n",
              "      flex-wrap:wrap;\n",
              "      gap: 12px;\n",
              "    }\n",
              "\n",
              "    .colab-df-convert {\n",
              "      background-color: #E8F0FE;\n",
              "      border: none;\n",
              "      border-radius: 50%;\n",
              "      cursor: pointer;\n",
              "      display: none;\n",
              "      fill: #1967D2;\n",
              "      height: 32px;\n",
              "      padding: 0 0 0 0;\n",
              "      width: 32px;\n",
              "    }\n",
              "\n",
              "    .colab-df-convert:hover {\n",
              "      background-color: #E2EBFA;\n",
              "      box-shadow: 0px 1px 2px rgba(60, 64, 67, 0.3), 0px 1px 3px 1px rgba(60, 64, 67, 0.15);\n",
              "      fill: #174EA6;\n",
              "    }\n",
              "\n",
              "    [theme=dark] .colab-df-convert {\n",
              "      background-color: #3B4455;\n",
              "      fill: #D2E3FC;\n",
              "    }\n",
              "\n",
              "    [theme=dark] .colab-df-convert:hover {\n",
              "      background-color: #434B5C;\n",
              "      box-shadow: 0px 1px 3px 1px rgba(0, 0, 0, 0.15);\n",
              "      filter: drop-shadow(0px 1px 2px rgba(0, 0, 0, 0.3));\n",
              "      fill: #FFFFFF;\n",
              "    }\n",
              "  </style>\n",
              "\n",
              "      <script>\n",
              "        const buttonEl =\n",
              "          document.querySelector('#df-4e71172e-65b1-4bca-9213-e5c57650dd12 button.colab-df-convert');\n",
              "        buttonEl.style.display =\n",
              "          google.colab.kernel.accessAllowed ? 'block' : 'none';\n",
              "\n",
              "        async function convertToInteractive(key) {\n",
              "          const element = document.querySelector('#df-4e71172e-65b1-4bca-9213-e5c57650dd12');\n",
              "          const dataTable =\n",
              "            await google.colab.kernel.invokeFunction('convertToInteractive',\n",
              "                                                     [key], {});\n",
              "          if (!dataTable) return;\n",
              "\n",
              "          const docLinkHtml = 'Like what you see? Visit the ' +\n",
              "            '<a target=\"_blank\" href=https://colab.research.google.com/notebooks/data_table.ipynb>data table notebook</a>'\n",
              "            + ' to learn more about interactive tables.';\n",
              "          element.innerHTML = '';\n",
              "          dataTable['output_type'] = 'display_data';\n",
              "          await google.colab.output.renderOutput(dataTable, element);\n",
              "          const docLink = document.createElement('div');\n",
              "          docLink.innerHTML = docLinkHtml;\n",
              "          element.appendChild(docLink);\n",
              "        }\n",
              "      </script>\n",
              "    </div>\n",
              "  </div>\n",
              "  "
            ]
          },
          "metadata": {},
          "execution_count": 79
        }
      ],
      "source": [
        "from sklearn import preprocessing\n",
        "le = preprocessing.LabelEncoder()\n",
        "df_main = df_main.apply(le.fit_transform)\n",
        "df_main.head()"
      ]
    },
    {
      "cell_type": "code",
      "execution_count": null,
      "metadata": {
        "id": "dgdFlDfbTvfh"
      },
      "outputs": [],
      "source": []
    },
    {
      "cell_type": "code",
      "execution_count": null,
      "metadata": {
        "id": "E7WbqaOETvfh"
      },
      "outputs": [],
      "source": []
    },
    {
      "cell_type": "code",
      "execution_count": null,
      "metadata": {
        "id": "Cug4ZfJrTvfh",
        "outputId": "fc0cb1ee-c696-47dd-a268-9bc51eca356b",
        "colab": {
          "base_uri": "https://localhost:8080/"
        }
      },
      "outputs": [
        {
          "output_type": "execute_result",
          "data": {
            "text/plain": [
              "LogisticRegression()"
            ]
          },
          "metadata": {},
          "execution_count": 88
        }
      ],
      "source": [
        "X_train, X_test, y_train, y_test = train_test_split(X, y, test_size=0.3, random_state=0)\n",
        "logreg = LogisticRegression()\n",
        "logreg.fit(X_train, y_train)"
      ]
    },
    {
      "cell_type": "code",
      "execution_count": null,
      "metadata": {
        "id": "LCRm3-X1Tvfi",
        "outputId": "3fe26842-98bb-4228-b91c-c41fdfafac64",
        "colab": {
          "base_uri": "https://localhost:8080/",
          "height": 206
        }
      },
      "outputs": [
        {
          "output_type": "execute_result",
          "data": {
            "text/plain": [
              "   energy(kWh/hh)     month  day_of_month   weekday Acorn_grouped\n",
              "0           1.387  December            10  Saturday      Affluent\n",
              "1           2.733  December            10  Saturday      Affluent\n",
              "2           2.872  December            10  Saturday      Affluent\n",
              "3           1.697  December            10  Saturday      Affluent\n",
              "4           1.238  December            10  Saturday      Affluent"
            ],
            "text/html": [
              "\n",
              "  <div id=\"df-e837722b-8558-4792-8db6-5d75f70ae23e\">\n",
              "    <div class=\"colab-df-container\">\n",
              "      <div>\n",
              "<style scoped>\n",
              "    .dataframe tbody tr th:only-of-type {\n",
              "        vertical-align: middle;\n",
              "    }\n",
              "\n",
              "    .dataframe tbody tr th {\n",
              "        vertical-align: top;\n",
              "    }\n",
              "\n",
              "    .dataframe thead th {\n",
              "        text-align: right;\n",
              "    }\n",
              "</style>\n",
              "<table border=\"1\" class=\"dataframe\">\n",
              "  <thead>\n",
              "    <tr style=\"text-align: right;\">\n",
              "      <th></th>\n",
              "      <th>energy(kWh/hh)</th>\n",
              "      <th>month</th>\n",
              "      <th>day_of_month</th>\n",
              "      <th>weekday</th>\n",
              "      <th>Acorn_grouped</th>\n",
              "    </tr>\n",
              "  </thead>\n",
              "  <tbody>\n",
              "    <tr>\n",
              "      <th>0</th>\n",
              "      <td>1.387</td>\n",
              "      <td>December</td>\n",
              "      <td>10</td>\n",
              "      <td>Saturday</td>\n",
              "      <td>Affluent</td>\n",
              "    </tr>\n",
              "    <tr>\n",
              "      <th>1</th>\n",
              "      <td>2.733</td>\n",
              "      <td>December</td>\n",
              "      <td>10</td>\n",
              "      <td>Saturday</td>\n",
              "      <td>Affluent</td>\n",
              "    </tr>\n",
              "    <tr>\n",
              "      <th>2</th>\n",
              "      <td>2.872</td>\n",
              "      <td>December</td>\n",
              "      <td>10</td>\n",
              "      <td>Saturday</td>\n",
              "      <td>Affluent</td>\n",
              "    </tr>\n",
              "    <tr>\n",
              "      <th>3</th>\n",
              "      <td>1.697</td>\n",
              "      <td>December</td>\n",
              "      <td>10</td>\n",
              "      <td>Saturday</td>\n",
              "      <td>Affluent</td>\n",
              "    </tr>\n",
              "    <tr>\n",
              "      <th>4</th>\n",
              "      <td>1.238</td>\n",
              "      <td>December</td>\n",
              "      <td>10</td>\n",
              "      <td>Saturday</td>\n",
              "      <td>Affluent</td>\n",
              "    </tr>\n",
              "  </tbody>\n",
              "</table>\n",
              "</div>\n",
              "      <button class=\"colab-df-convert\" onclick=\"convertToInteractive('df-e837722b-8558-4792-8db6-5d75f70ae23e')\"\n",
              "              title=\"Convert this dataframe to an interactive table.\"\n",
              "              style=\"display:none;\">\n",
              "        \n",
              "  <svg xmlns=\"http://www.w3.org/2000/svg\" height=\"24px\"viewBox=\"0 0 24 24\"\n",
              "       width=\"24px\">\n",
              "    <path d=\"M0 0h24v24H0V0z\" fill=\"none\"/>\n",
              "    <path d=\"M18.56 5.44l.94 2.06.94-2.06 2.06-.94-2.06-.94-.94-2.06-.94 2.06-2.06.94zm-11 1L8.5 8.5l.94-2.06 2.06-.94-2.06-.94L8.5 2.5l-.94 2.06-2.06.94zm10 10l.94 2.06.94-2.06 2.06-.94-2.06-.94-.94-2.06-.94 2.06-2.06.94z\"/><path d=\"M17.41 7.96l-1.37-1.37c-.4-.4-.92-.59-1.43-.59-.52 0-1.04.2-1.43.59L10.3 9.45l-7.72 7.72c-.78.78-.78 2.05 0 2.83L4 21.41c.39.39.9.59 1.41.59.51 0 1.02-.2 1.41-.59l7.78-7.78 2.81-2.81c.8-.78.8-2.07 0-2.86zM5.41 20L4 18.59l7.72-7.72 1.47 1.35L5.41 20z\"/>\n",
              "  </svg>\n",
              "      </button>\n",
              "      \n",
              "  <style>\n",
              "    .colab-df-container {\n",
              "      display:flex;\n",
              "      flex-wrap:wrap;\n",
              "      gap: 12px;\n",
              "    }\n",
              "\n",
              "    .colab-df-convert {\n",
              "      background-color: #E8F0FE;\n",
              "      border: none;\n",
              "      border-radius: 50%;\n",
              "      cursor: pointer;\n",
              "      display: none;\n",
              "      fill: #1967D2;\n",
              "      height: 32px;\n",
              "      padding: 0 0 0 0;\n",
              "      width: 32px;\n",
              "    }\n",
              "\n",
              "    .colab-df-convert:hover {\n",
              "      background-color: #E2EBFA;\n",
              "      box-shadow: 0px 1px 2px rgba(60, 64, 67, 0.3), 0px 1px 3px 1px rgba(60, 64, 67, 0.15);\n",
              "      fill: #174EA6;\n",
              "    }\n",
              "\n",
              "    [theme=dark] .colab-df-convert {\n",
              "      background-color: #3B4455;\n",
              "      fill: #D2E3FC;\n",
              "    }\n",
              "\n",
              "    [theme=dark] .colab-df-convert:hover {\n",
              "      background-color: #434B5C;\n",
              "      box-shadow: 0px 1px 3px 1px rgba(0, 0, 0, 0.15);\n",
              "      filter: drop-shadow(0px 1px 2px rgba(0, 0, 0, 0.3));\n",
              "      fill: #FFFFFF;\n",
              "    }\n",
              "  </style>\n",
              "\n",
              "      <script>\n",
              "        const buttonEl =\n",
              "          document.querySelector('#df-e837722b-8558-4792-8db6-5d75f70ae23e button.colab-df-convert');\n",
              "        buttonEl.style.display =\n",
              "          google.colab.kernel.accessAllowed ? 'block' : 'none';\n",
              "\n",
              "        async function convertToInteractive(key) {\n",
              "          const element = document.querySelector('#df-e837722b-8558-4792-8db6-5d75f70ae23e');\n",
              "          const dataTable =\n",
              "            await google.colab.kernel.invokeFunction('convertToInteractive',\n",
              "                                                     [key], {});\n",
              "          if (!dataTable) return;\n",
              "\n",
              "          const docLinkHtml = 'Like what you see? Visit the ' +\n",
              "            '<a target=\"_blank\" href=https://colab.research.google.com/notebooks/data_table.ipynb>data table notebook</a>'\n",
              "            + ' to learn more about interactive tables.';\n",
              "          element.innerHTML = '';\n",
              "          dataTable['output_type'] = 'display_data';\n",
              "          await google.colab.output.renderOutput(dataTable, element);\n",
              "          const docLink = document.createElement('div');\n",
              "          docLink.innerHTML = docLinkHtml;\n",
              "          element.appendChild(docLink);\n",
              "        }\n",
              "      </script>\n",
              "    </div>\n",
              "  </div>\n",
              "  "
            ]
          },
          "metadata": {},
          "execution_count": 78
        }
      ],
      "source": [
        "df_main_copy.head()"
      ]
    },
    {
      "cell_type": "code",
      "execution_count": null,
      "metadata": {
        "id": "QYhEWRwJTvfi",
        "outputId": "cd41b377-ec1e-4fd5-fbb0-17506fd2117f",
        "colab": {
          "base_uri": "https://localhost:8080/"
        }
      },
      "outputs": [
        {
          "output_type": "stream",
          "name": "stdout",
          "text": [
            "Accuracy of logistic regression classifier on test set: 0.88\n"
          ]
        }
      ],
      "source": [
        "y_pred = logreg.predict(X_test)\n",
        "print('Accuracy of logistic regression classifier on test set: {:.2f}'.format(logreg.score(X_test, y_test)))"
      ]
    },
    {
      "cell_type": "code",
      "execution_count": null,
      "metadata": {
        "id": "bt5Ff0meTvfi"
      },
      "outputs": [],
      "source": []
    },
    {
      "cell_type": "code",
      "execution_count": null,
      "metadata": {
        "id": "zXZlBCsmTvfi",
        "outputId": "427bb80c-0202-4376-a525-e6f7979334b7",
        "colab": {
          "base_uri": "https://localhost:8080/"
        }
      },
      "outputs": [
        {
          "output_type": "stream",
          "name": "stdout",
          "text": [
            "\n",
            "ACCURACY OF THE MODEL:  0.9316842834863975\n"
          ]
        }
      ],
      "source": [
        "start = timeit.default_timer()\n",
        "\n",
        "#random forest\n",
        "from sklearn.ensemble import RandomForestClassifier\n",
        "clf = RandomForestClassifier(n_estimators = 100)\n",
        "\n",
        "param_grid = {\n",
        "                 'n_estimators': [5, 10, 15, 20,30,50,70,100],\n",
        "                 'max_depth': [2, 3, 5, 7, 9]\n",
        "             }\n",
        "\n",
        "from sklearn.model_selection import GridSearchCV\n",
        "\n",
        "grid_clf = GridSearchCV(clf, param_grid, cv=10)\n",
        "grid_clf.fit(X_train, y_train)\n",
        "\n",
        "# performing predictions on the test dataset\n",
        "y_pred = grid_clf.predict(X_test)\n",
        "\n",
        "# metrics are used to find accuracy or error\n",
        "from sklearn import metrics\n",
        "print()\n",
        "\n",
        "# using metrics module for accuracy calculation\n",
        "rand_forest_accuracy = metrics.accuracy_score(y_test, y_pred)\n",
        "print(\"ACCURACY OF THE MODEL: \", rand_forest_accuracy)\n"
      ]
    },
    {
      "cell_type": "code",
      "execution_count": null,
      "metadata": {
        "id": "Ist9hVOcTvfi",
        "colab": {
          "base_uri": "https://localhost:8080/",
          "height": 1000
        },
        "outputId": "b8c2b282-f595-478d-f8c7-76484e16ea82"
      },
      "outputs": [
        {
          "output_type": "stream",
          "name": "stdout",
          "text": [
            "Init: initializing centroids\n",
            "Init: initializing clusters\n",
            "Starting iterations...\n",
            "Run 1, iteration: 1/100, moves: 0, cost: 322739.0\n",
            "Init: initializing centroids\n",
            "Init: initializing clusters\n",
            "Starting iterations...\n",
            "Run 2, iteration: 1/100, moves: 0, cost: 322739.0\n",
            "Init: initializing centroids\n",
            "Init: initializing clusters\n",
            "Starting iterations...\n",
            "Run 3, iteration: 1/100, moves: 0, cost: 322739.0\n",
            "Init: initializing centroids\n",
            "Init: initializing clusters\n",
            "Starting iterations...\n",
            "Run 4, iteration: 1/100, moves: 0, cost: 322739.0\n",
            "Init: initializing centroids\n",
            "Init: initializing clusters\n",
            "Starting iterations...\n",
            "Run 5, iteration: 1/100, moves: 0, cost: 322739.0\n",
            "Best run was number 1\n",
            "Init: initializing centroids\n",
            "Init: initializing clusters\n",
            "Starting iterations...\n",
            "Run 1, iteration: 1/100, moves: 2312, cost: 284341.0\n",
            "Init: initializing centroids\n",
            "Init: initializing clusters\n",
            "Starting iterations...\n",
            "Run 2, iteration: 1/100, moves: 228, cost: 284443.0\n",
            "Init: initializing centroids\n",
            "Init: initializing clusters\n",
            "Starting iterations...\n",
            "Run 3, iteration: 1/100, moves: 2476, cost: 284510.0\n",
            "Init: initializing centroids\n",
            "Init: initializing clusters\n",
            "Starting iterations...\n",
            "Run 4, iteration: 1/100, moves: 170, cost: 284036.0\n",
            "Init: initializing centroids\n",
            "Init: initializing clusters\n",
            "Starting iterations...\n",
            "Run 5, iteration: 1/100, moves: 169, cost: 306526.0\n",
            "Best run was number 4\n",
            "Init: initializing centroids\n",
            "Init: initializing clusters\n",
            "Starting iterations...\n",
            "Run 1, iteration: 1/100, moves: 223, cost: 274201.0\n",
            "Init: initializing centroids\n",
            "Init: initializing clusters\n",
            "Starting iterations...\n",
            "Run 2, iteration: 1/100, moves: 2928, cost: 275470.0\n",
            "Init: initializing centroids\n",
            "Init: initializing clusters\n",
            "Starting iterations...\n",
            "Run 3, iteration: 1/100, moves: 5935, cost: 275390.0\n",
            "Init: initializing centroids\n",
            "Init: initializing clusters\n",
            "Starting iterations...\n",
            "Run 4, iteration: 1/100, moves: 444, cost: 275132.0\n",
            "Init: initializing centroids\n",
            "Init: initializing clusters\n",
            "Starting iterations...\n",
            "Run 5, iteration: 1/100, moves: 2717, cost: 280032.0\n",
            "Best run was number 1\n",
            "Init: initializing centroids\n",
            "Init: initializing clusters\n",
            "Starting iterations...\n",
            "Run 1, iteration: 1/100, moves: 28833, cost: 269792.0\n",
            "Run 1, iteration: 2/100, moves: 1345, cost: 269792.0\n",
            "Init: initializing centroids\n",
            "Init: initializing clusters\n",
            "Starting iterations...\n",
            "Run 2, iteration: 1/100, moves: 3805, cost: 272445.0\n",
            "Init: initializing centroids\n",
            "Init: initializing clusters\n",
            "Starting iterations...\n",
            "Run 3, iteration: 1/100, moves: 293, cost: 267376.0\n",
            "Init: initializing centroids\n",
            "Init: initializing clusters\n",
            "Starting iterations...\n",
            "Run 4, iteration: 1/100, moves: 4155, cost: 266917.0\n",
            "Init: initializing centroids\n",
            "Init: initializing clusters\n",
            "Starting iterations...\n",
            "Run 5, iteration: 1/100, moves: 12954, cost: 268109.0\n",
            "Run 5, iteration: 2/100, moves: 5323, cost: 268109.0\n",
            "Best run was number 4\n"
          ]
        },
        {
          "output_type": "display_data",
          "data": {
            "text/plain": [
              "<Figure size 432x288 with 1 Axes>"
            ],
            "image/png": "[encoded data removed]"
          },
          "metadata": {
            "needs_background": "light"
          }
        }
      ],
      "source": [
        "## Kmodes clustering techinque\n",
        "\n",
        "# Elbow curve to find optimal K\n",
        "cost = []\n",
        "K = range(1,5)\n",
        "for num_clusters in list(K):\n",
        "    kmode = KModes(n_clusters=num_clusters, init = \"random\", n_init = 5, verbose=1)\n",
        "    kmode.fit_predict(df_main)\n",
        "    cost.append(kmode.cost_)\n",
        "    \n",
        "plt.plot(K, cost, 'bx-')\n",
        "plt.xlabel('No. of clusters')\n",
        "plt.ylabel('Cost')\n",
        "plt.title('Elbow Method For Optimal k')\n",
        "plt.show()"
      ]
    },
    {
      "cell_type": "code",
      "source": [],
      "metadata": {
        "id": "eyoffu45Icc0"
      },
      "execution_count": null,
      "outputs": []
    },
    {
      "cell_type": "code",
      "execution_count": null,
      "metadata": {
        "colab": {
          "base_uri": "https://localhost:8080/",
          "height": 1000
        },
        "outputId": "bb08fd77-f7f9-4bd0-b28a-2402633da342",
        "id": "PEjpX2u0IfHF"
      },
      "outputs": [
        {
          "output_type": "stream",
          "name": "stdout",
          "text": [
            "Init: initializing centroids\n",
            "Init: initializing clusters\n",
            "Starting iterations...\n",
            "Run 1, iteration: 1/100, moves: 0, cost: 322739.0\n",
            "Init: initializing centroids\n",
            "Init: initializing clusters\n",
            "Starting iterations...\n",
            "Run 2, iteration: 1/100, moves: 0, cost: 322739.0\n",
            "Init: initializing centroids\n",
            "Init: initializing clusters\n",
            "Starting iterations...\n",
            "Run 3, iteration: 1/100, moves: 0, cost: 322739.0\n",
            "Init: initializing centroids\n",
            "Init: initializing clusters\n",
            "Starting iterations...\n",
            "Run 4, iteration: 1/100, moves: 0, cost: 322739.0\n",
            "Best run was number 1\n",
            "Init: initializing centroids\n",
            "Init: initializing clusters\n",
            "Starting iterations...\n",
            "Run 1, iteration: 1/100, moves: 2503, cost: 284558.0\n",
            "Init: initializing centroids\n",
            "Init: initializing clusters\n",
            "Starting iterations...\n",
            "Run 2, iteration: 1/100, moves: 155, cost: 284950.0\n",
            "Init: initializing centroids\n",
            "Init: initializing clusters\n",
            "Starting iterations...\n",
            "Run 3, iteration: 1/100, moves: 152, cost: 284948.0\n",
            "Init: initializing centroids\n",
            "Init: initializing clusters\n",
            "Starting iterations...\n",
            "Run 4, iteration: 1/100, moves: 2139, cost: 283188.0\n",
            "Best run was number 4\n",
            "Init: initializing centroids\n",
            "Init: initializing clusters\n",
            "Starting iterations...\n",
            "Run 1, iteration: 1/100, moves: 326, cost: 274605.0\n",
            "Init: initializing centroids\n",
            "Init: initializing clusters\n",
            "Starting iterations...\n",
            "Run 2, iteration: 1/100, moves: 24809, cost: 273184.0\n",
            "Run 2, iteration: 2/100, moves: 74, cost: 273184.0\n",
            "Init: initializing centroids\n",
            "Init: initializing clusters\n",
            "Starting iterations...\n",
            "Run 3, iteration: 1/100, moves: 30027, cost: 275148.0\n",
            "Run 3, iteration: 2/100, moves: 1552, cost: 275148.0\n",
            "Init: initializing centroids\n",
            "Init: initializing clusters\n",
            "Starting iterations...\n",
            "Run 4, iteration: 1/100, moves: 67, cost: 276025.0\n",
            "Best run was number 2\n"
          ]
        },
        {
          "output_type": "display_data",
          "data": {
            "text/plain": [
              "<Figure size 432x288 with 1 Axes>"
            ],
            "image/png": "[encoded data removed]"
          },
          "metadata": {
            "needs_background": "light"
          }
        }
      ],
      "source": [
        "## Kmodes clustering techinque\n",
        "\n",
        "# Elbow curve to find optimal K\n",
        "cost = []\n",
        "K = range(1,4)\n",
        "for num_clusters in list(K):\n",
        "    kmode = KModes(n_clusters=num_clusters, init = \"random\", n_init = 4, verbose=1)\n",
        "    kmode.fit_predict(df_main)\n",
        "    cost.append(kmode.cost_)\n",
        "    \n",
        "plt.plot(K, cost, 'bx-')\n",
        "plt.xlabel('No. of clusters')\n",
        "plt.ylabel('Cost')\n",
        "plt.title('Elbow Method For Optimal k')\n",
        "plt.show()"
      ]
    },
    {
      "cell_type": "markdown",
      "source": [
        "We now choose K=2 to be as efficient as possible"
      ],
      "metadata": {
        "id": "9miYB3NBJmfI"
      }
    },
    {
      "cell_type": "code",
      "source": [
        "# Building the model with 2 clusters\n",
        "kmode = KModes(n_clusters=2, init = \"random\", n_init = 4, verbose=1)\n",
        "clusters = kmode.fit_predict(df_main)\n",
        "clusters"
      ],
      "metadata": {
        "colab": {
          "base_uri": "https://localhost:8080/"
        },
        "id": "0heX7txXJrAF",
        "outputId": "28435e0b-6d22-4192-9e32-5fe37b3cbc22"
      },
      "execution_count": null,
      "outputs": [
        {
          "output_type": "stream",
          "name": "stdout",
          "text": [
            "Init: initializing centroids\n",
            "Init: initializing clusters\n",
            "Starting iterations...\n",
            "Run 1, iteration: 1/100, moves: 9900, cost: 283409.0\n",
            "Run 1, iteration: 2/100, moves: 19517, cost: 283141.0\n",
            "Run 1, iteration: 3/100, moves: 131, cost: 283141.0\n",
            "Init: initializing centroids\n",
            "Init: initializing clusters\n",
            "Starting iterations...\n",
            "Run 2, iteration: 1/100, moves: 244, cost: 284698.0\n",
            "Init: initializing centroids\n",
            "Init: initializing clusters\n",
            "Starting iterations...\n",
            "Run 3, iteration: 1/100, moves: 202, cost: 284894.0\n",
            "Init: initializing centroids\n",
            "Init: initializing clusters\n",
            "Starting iterations...\n",
            "Run 4, iteration: 1/100, moves: 10217, cost: 284934.0\n",
            "Run 4, iteration: 2/100, moves: 20545, cost: 283170.0\n",
            "Run 4, iteration: 3/100, moves: 636, cost: 283170.0\n",
            "Best run was number 1\n"
          ]
        },
        {
          "output_type": "execute_result",
          "data": {
            "text/plain": [
              "array([1, 1, 1, ..., 0, 0, 0], dtype=uint16)"
            ]
          },
          "metadata": {},
          "execution_count": 70
        }
      ]
    },
    {
      "cell_type": "code",
      "source": [
        "df_main.insert(0, \"Cluster\", clusters, True)\n",
        "df_main.head()"
      ],
      "metadata": {
        "colab": {
          "base_uri": "https://localhost:8080/",
          "height": 206
        },
        "id": "RqDb2vfwL8MO",
        "outputId": "1b7cad1e-9795-4bf3-a500-c9aa3be7eeb4"
      },
      "execution_count": null,
      "outputs": [
        {
          "output_type": "execute_result",
          "data": {
            "text/plain": [
              "   Cluster  energy(kWh/hh)  month  day_of_month  weekday  Acorn_grouped\n",
              "0        1            1354      2             9        2              1\n",
              "1        1            2204      2             9        2              1\n",
              "2        1            2234      2             9        2              1\n",
              "3        1            1654      2             9        2              1\n",
              "4        1            1205      2             9        2              1"
            ],
            "text/html": [
              "\n",
              "  <div id=\"df-07b477e7-f4b2-460b-b58b-c1baeecc3512\">\n",
              "    <div class=\"colab-df-container\">\n",
              "      <div>\n",
              "<style scoped>\n",
              "    .dataframe tbody tr th:only-of-type {\n",
              "        vertical-align: middle;\n",
              "    }\n",
              "\n",
              "    .dataframe tbody tr th {\n",
              "        vertical-align: top;\n",
              "    }\n",
              "\n",
              "    .dataframe thead th {\n",
              "        text-align: right;\n",
              "    }\n",
              "</style>\n",
              "<table border=\"1\" class=\"dataframe\">\n",
              "  <thead>\n",
              "    <tr style=\"text-align: right;\">\n",
              "      <th></th>\n",
              "      <th>Cluster</th>\n",
              "      <th>energy(kWh/hh)</th>\n",
              "      <th>month</th>\n",
              "      <th>day_of_month</th>\n",
              "      <th>weekday</th>\n",
              "      <th>Acorn_grouped</th>\n",
              "    </tr>\n",
              "  </thead>\n",
              "  <tbody>\n",
              "    <tr>\n",
              "      <th>0</th>\n",
              "      <td>1</td>\n",
              "      <td>1354</td>\n",
              "      <td>2</td>\n",
              "      <td>9</td>\n",
              "      <td>2</td>\n",
              "      <td>1</td>\n",
              "    </tr>\n",
              "    <tr>\n",
              "      <th>1</th>\n",
              "      <td>1</td>\n",
              "      <td>2204</td>\n",
              "      <td>2</td>\n",
              "      <td>9</td>\n",
              "      <td>2</td>\n",
              "      <td>1</td>\n",
              "    </tr>\n",
              "    <tr>\n",
              "      <th>2</th>\n",
              "      <td>1</td>\n",
              "      <td>2234</td>\n",
              "      <td>2</td>\n",
              "      <td>9</td>\n",
              "      <td>2</td>\n",
              "      <td>1</td>\n",
              "    </tr>\n",
              "    <tr>\n",
              "      <th>3</th>\n",
              "      <td>1</td>\n",
              "      <td>1654</td>\n",
              "      <td>2</td>\n",
              "      <td>9</td>\n",
              "      <td>2</td>\n",
              "      <td>1</td>\n",
              "    </tr>\n",
              "    <tr>\n",
              "      <th>4</th>\n",
              "      <td>1</td>\n",
              "      <td>1205</td>\n",
              "      <td>2</td>\n",
              "      <td>9</td>\n",
              "      <td>2</td>\n",
              "      <td>1</td>\n",
              "    </tr>\n",
              "  </tbody>\n",
              "</table>\n",
              "</div>\n",
              "      <button class=\"colab-df-convert\" onclick=\"convertToInteractive('df-07b477e7-f4b2-460b-b58b-c1baeecc3512')\"\n",
              "              title=\"Convert this dataframe to an interactive table.\"\n",
              "              style=\"display:none;\">\n",
              "        \n",
              "  <svg xmlns=\"http://www.w3.org/2000/svg\" height=\"24px\"viewBox=\"0 0 24 24\"\n",
              "       width=\"24px\">\n",
              "    <path d=\"M0 0h24v24H0V0z\" fill=\"none\"/>\n",
              "    <path d=\"M18.56 5.44l.94 2.06.94-2.06 2.06-.94-2.06-.94-.94-2.06-.94 2.06-2.06.94zm-11 1L8.5 8.5l.94-2.06 2.06-.94-2.06-.94L8.5 2.5l-.94 2.06-2.06.94zm10 10l.94 2.06.94-2.06 2.06-.94-2.06-.94-.94-2.06-.94 2.06-2.06.94z\"/><path d=\"M17.41 7.96l-1.37-1.37c-.4-.4-.92-.59-1.43-.59-.52 0-1.04.2-1.43.59L10.3 9.45l-7.72 7.72c-.78.78-.78 2.05 0 2.83L4 21.41c.39.39.9.59 1.41.59.51 0 1.02-.2 1.41-.59l7.78-7.78 2.81-2.81c.8-.78.8-2.07 0-2.86zM5.41 20L4 18.59l7.72-7.72 1.47 1.35L5.41 20z\"/>\n",
              "  </svg>\n",
              "      </button>\n",
              "      \n",
              "  <style>\n",
              "    .colab-df-container {\n",
              "      display:flex;\n",
              "      flex-wrap:wrap;\n",
              "      gap: 12px;\n",
              "    }\n",
              "\n",
              "    .colab-df-convert {\n",
              "      background-color: #E8F0FE;\n",
              "      border: none;\n",
              "      border-radius: 50%;\n",
              "      cursor: pointer;\n",
              "      display: none;\n",
              "      fill: #1967D2;\n",
              "      height: 32px;\n",
              "      padding: 0 0 0 0;\n",
              "      width: 32px;\n",
              "    }\n",
              "\n",
              "    .colab-df-convert:hover {\n",
              "      background-color: #E2EBFA;\n",
              "      box-shadow: 0px 1px 2px rgba(60, 64, 67, 0.3), 0px 1px 3px 1px rgba(60, 64, 67, 0.15);\n",
              "      fill: #174EA6;\n",
              "    }\n",
              "\n",
              "    [theme=dark] .colab-df-convert {\n",
              "      background-color: #3B4455;\n",
              "      fill: #D2E3FC;\n",
              "    }\n",
              "\n",
              "    [theme=dark] .colab-df-convert:hover {\n",
              "      background-color: #434B5C;\n",
              "      box-shadow: 0px 1px 3px 1px rgba(0, 0, 0, 0.15);\n",
              "      filter: drop-shadow(0px 1px 2px rgba(0, 0, 0, 0.3));\n",
              "      fill: #FFFFFF;\n",
              "    }\n",
              "  </style>\n",
              "\n",
              "      <script>\n",
              "        const buttonEl =\n",
              "          document.querySelector('#df-07b477e7-f4b2-460b-b58b-c1baeecc3512 button.colab-df-convert');\n",
              "        buttonEl.style.display =\n",
              "          google.colab.kernel.accessAllowed ? 'block' : 'none';\n",
              "\n",
              "        async function convertToInteractive(key) {\n",
              "          const element = document.querySelector('#df-07b477e7-f4b2-460b-b58b-c1baeecc3512');\n",
              "          const dataTable =\n",
              "            await google.colab.kernel.invokeFunction('convertToInteractive',\n",
              "                                                     [key], {});\n",
              "          if (!dataTable) return;\n",
              "\n",
              "          const docLinkHtml = 'Like what you see? Visit the ' +\n",
              "            '<a target=\"_blank\" href=https://colab.research.google.com/notebooks/data_table.ipynb>data table notebook</a>'\n",
              "            + ' to learn more about interactive tables.';\n",
              "          element.innerHTML = '';\n",
              "          dataTable['output_type'] = 'display_data';\n",
              "          await google.colab.output.renderOutput(dataTable, element);\n",
              "          const docLink = document.createElement('div');\n",
              "          docLink.innerHTML = docLinkHtml;\n",
              "          element.appendChild(docLink);\n",
              "        }\n",
              "      </script>\n",
              "    </div>\n",
              "  </div>\n",
              "  "
            ]
          },
          "metadata": {},
          "execution_count": 71
        }
      ]
    },
    {
      "cell_type": "markdown",
      "source": [
        "For hierarchical clustering, here is what I will do. I would like to use the grouped values of the data, with the energy portion as I believe those are important and what I want to compare. "
      ],
      "metadata": {
        "id": "1ymXAtVeQD-9"
      }
    },
    {
      "cell_type": "code",
      "source": [
        "#knn\n",
        "# build KNN model and choose n_neighbors = 2\n",
        "knn = neighbors.KNeighborsClassifier(n_neighbors = 3)\n",
        "# train the model\n",
        "knn.fit(X_train, y_train)\n",
        "# get the predict value from X_test\n",
        "y_pred = knn.predict(X_test)\n",
        "\n",
        "knn_accuracy = knn.score(X_test, y_test)\n",
        "# print the score\n",
        "print('accuracy: ', knn_accuracy)\n",
        "\n",
        "stop = timeit.default_timer()\n",
        "execution_time_knn = stop - start\n",
        "execution_time_knn"
      ],
      "metadata": {
        "colab": {
          "base_uri": "https://localhost:8080/"
        },
        "id": "Sg2x4nv5QZJo",
        "outputId": "8012426d-e8d2-4cff-bc98-824f8fab76af"
      },
      "execution_count": null,
      "outputs": [
        {
          "output_type": "stream",
          "name": "stdout",
          "text": [
            "accuracy:  0.7420291110726044\n"
          ]
        },
        {
          "output_type": "execute_result",
          "data": {
            "text/plain": [
              "791.7375360610004"
            ]
          },
          "metadata": {},
          "execution_count": 91
        }
      ]
    }
  ],
  "metadata": {
    "kernelspec": {
      "display_name": "Python 3",
      "language": "python",
      "name": "python3"
    },
    "language_info": {
      "codemirror_mode": {
        "name": "ipython",
        "version": 3
      },
      "file_extension": ".py",
      "mimetype": "text/x-python",
      "name": "python",
      "nbconvert_exporter": "python",
      "pygments_lexer": "ipython3",
      "version": "3.8.3"
    },
    "colab": {
      "provenance": [],
      "include_colab_link": true
    }
  },
  "nbformat": 4,
  "nbformat_minor": 0
}